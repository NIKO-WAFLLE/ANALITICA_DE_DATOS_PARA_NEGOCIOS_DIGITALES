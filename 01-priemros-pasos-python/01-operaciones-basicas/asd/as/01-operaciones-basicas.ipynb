{
 "cells": [
  {
   "cell_type": "markdown",
   "id": "7341ca93",
   "metadata": {},
   "source": [
    "# operaciones bacicas en python"
   ]
  },
  {
   "cell_type": "markdown",
   "id": "61c5adac",
   "metadata": {},
   "source": [
    "## declaracion de variables y asignacion de datos"
   ]
  },
  {
   "cell_type": "markdown",
   "id": "b3bd3320",
   "metadata": {},
   "source": [
    "# decla"
   ]
  },
  {
   "cell_type": "code",
   "execution_count": null,
   "id": "42fc62f5",
   "metadata": {},
   "outputs": [],
   "source": [
    "# declaracion de variable\n",
    "\n",
    "a = 1 # variable entero\n",
    "b = 2.3 #variable tipo flotante\n",
    "c = True #variable de tipo bolean\n",
    "d = False #variable de tipo bolean\n",
    "e = \"hola mundo\" # variables tipo cadena de texto\n",
    "e = 'hola mundo digital' # variables tipo cadena de texto"
   ]
  }
 ],
 "metadata": {
  "kernelspec": {
   "display_name": ".venv",
   "language": "python",
   "name": "python3"
  },
  "language_info": {
   "codemirror_mode": {
    "name": "ipython",
    "version": 3
   },
   "file_extension": ".py",
   "mimetype": "text/x-python",
   "name": "python",
   "nbconvert_exporter": "python",
   "pygments_lexer": "ipython3",
   "version": "3.13.3"
  }
 },
 "nbformat": 4,
 "nbformat_minor": 5
}
