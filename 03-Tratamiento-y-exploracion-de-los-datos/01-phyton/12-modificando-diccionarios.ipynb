{
 "cells": [
  {
   "cell_type": "markdown",
   "id": "abc506f9",
   "metadata": {},
   "source": [
    "### modificando diccionarios\n",
    "\n",
    "## 1. objetivos  \n",
    "\n",
    " - practicar los tres metodos bacicos de modificacion de diccionarios: **agregar datos, modificar datos y borrar datos**"
   ]
  },
  {
   "cell_type": "markdown",
   "id": "d015d6d9",
   "metadata": {},
   "source": [
    "## 2. desarrollo \n",
    "tenemos 3  maneras basicas de modificar los diccionarios\n",
    "\n",
    "___\n",
    "\n",
    "### agregar datos\n",
    "\n",
    "para agregar un dato a un diccionario ya existente basta con llamar la llave que queremos agregar y asignar un valor."
   ]
  },
  {
   "cell_type": "code",
   "execution_count": 2,
   "id": "4f4d0ee4",
   "metadata": {},
   "outputs": [],
   "source": [
    "from pprint import pprint"
   ]
  },
  {
   "cell_type": "code",
   "execution_count": 3,
   "id": "4002158f",
   "metadata": {},
   "outputs": [
    {
     "name": "stdout",
     "output_type": "stream",
     "text": [
      "{'nombre': 'Maluma', 'tel': 5546352431, 'dir': {'colonia': 'El 61', 'calle': 'Pirineos', 'num': 69, 'cp': 42830}}\n"
     ]
    }
   ],
   "source": [
    "info_de_contacto = {\n",
    "    'nombre': 'Maluma',\n",
    "    'tel': 5546352431,\n",
    "    'dir': {\n",
    "        'colonia': 'El 61',\n",
    "        'calle': 'Pirineos',\n",
    "        'num': 69,\n",
    "        'cp': 42830\n",
    "    }\n",
    "}\n",
    "\n",
    "print(info_de_contacto)\n"
   ]
  },
  {
   "cell_type": "code",
   "execution_count": 4,
   "id": "5bad7d74",
   "metadata": {},
   "outputs": [
    {
     "name": "stdout",
     "output_type": "stream",
     "text": [
      "{'dir': {'calle': 'Pirineos', 'colonia': 'El 61', 'cp': 42830, 'num': 69},\n",
      " 'nombre': 'Maluma',\n",
      " 'tel': 5546352431}\n"
     ]
    }
   ],
   "source": [
    "pprint(info_de_contacto)"
   ]
  },
  {
   "cell_type": "code",
   "execution_count": 5,
   "id": "e96d0e16",
   "metadata": {},
   "outputs": [],
   "source": [
    "info_de_contacto['email'] = 'Maluma_hasta_abajo@reg.com'"
   ]
  },
  {
   "cell_type": "code",
   "execution_count": 6,
   "id": "00b1886b",
   "metadata": {},
   "outputs": [
    {
     "name": "stdout",
     "output_type": "stream",
     "text": [
      "{'dir': {'calle': 'Pirineos', 'colonia': 'El 61', 'cp': 42830, 'num': 69},\n",
      " 'email': 'Maluma_hasta_abajo@reg.com',\n",
      " 'nombre': 'Maluma',\n",
      " 'tel': 5546352431}\n"
     ]
    }
   ],
   "source": [
    "pprint(info_de_contacto)"
   ]
  },
  {
   "cell_type": "markdown",
   "id": "d962dd22",
   "metadata": {},
   "source": [
    "## modificar para llave-valor existentes\n",
    "\n",
    "para modificar un par llave-valor "
   ]
  }
 ],
 "metadata": {
  "kernelspec": {
   "display_name": "Python 3",
   "language": "python",
   "name": "python3"
  },
  "language_info": {
   "codemirror_mode": {
    "name": "ipython",
    "version": 3
   },
   "file_extension": ".py",
   "mimetype": "text/x-python",
   "name": "python",
   "nbconvert_exporter": "python",
   "pygments_lexer": "ipython3",
   "version": "3.10.12"
  }
 },
 "nbformat": 4,
 "nbformat_minor": 5
}
