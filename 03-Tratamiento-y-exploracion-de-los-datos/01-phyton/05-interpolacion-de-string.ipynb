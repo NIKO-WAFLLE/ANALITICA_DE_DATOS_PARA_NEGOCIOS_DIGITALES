{
 "cells": [
  {
   "cell_type": "markdown",
   "id": "ebc76aca",
   "metadata": {},
   "source": [
    "## interpolacion\n",
    "\n",
    "### objetivos;\n",
    "- Aprender a imprimir string\n",
    "- aprender a interpolar variables dentro de string\n",
    "___\n",
    "### desarrollo"
   ]
  },
  {
   "cell_type": "markdown",
   "id": "e0234e7a",
   "metadata": {},
   "source": [
    "podemos hacer outputs de nuestro codigo de esta menera"
   ]
  },
  {
   "cell_type": "code",
   "execution_count": null,
   "id": "18234c08",
   "metadata": {},
   "outputs": [
    {
     "name": "stdout",
     "output_type": "stream",
     "text": [
      "suma de var_1 + var_2\n",
      "38.7\n"
     ]
    },
    {
     "name": "stdout",
     "output_type": "stream",
     "text": [
      "suma de var_1 + var_2\n",
      "38.7\n"
     ]
    }
   ],
   "source": [
    "var_1 = 15.3\n",
    "var_2 = 23.4\n",
    "\n",
    "print(\"suma de var_1 + var_2\")\n",
    "print (var_1 + var_2)"
   ]
  },
  {
   "cell_type": "markdown",
   "id": "b21a3129",
   "metadata": {},
   "source": [
    "pero aveces resulta necesario o deseable el valor de la variables dentro de dicho string para para esto las llamaos `f-string` el formato de una `f-string` es el \n",
    "\n",
    "`f \"esto es texto {esto_es_una_variable} es mas texto\"`\n",
    "\n",
    "escribimos una `f` antes de kas comillas le indicamos a python  que lo que pongas dentro de las llaves (`{}`) sera de python. En este caso, Una variable asigna previamente\n",
    "\n",
    "Ahora podemos hacer lo siguiente \n"
   ]
  },
  {
   "cell_type": "code",
   "execution_count": null,
   "id": "edc82c00",
   "metadata": {},
   "outputs": [
    {
     "name": "stdout",
     "output_type": "stream",
     "text": [
      "la suma 67.3 es el resultado\n"
     ]
    }
   ],
   "source": [
    "var_3 = 43\n",
    "var_4 = 24.3\n",
    "\n",
    "suma = var_3 + var_4\n",
    "\n",
    "print(f'la suma {suma} es el resultado')"
   ]
  },
  {
   "cell_type": "code",
   "execution_count": 13,
   "id": "29414924",
   "metadata": {},
   "outputs": [
    {
     "name": "stdout",
     "output_type": "stream",
     "text": [
      "el nombre del programa es: suaka y la suma de los valores 5.6+9.8 , es: 15.4\n"
     ]
    }
   ],
   "source": [
    "name_progrma = (input('Introduce el nombre del programa'))\n",
    "var_3 = float(input('Introduce el primer valor'))\n",
    "var_4 = float(input('introduce el segundo valor'))\n",
    "\n",
    "suma = var_3 + var_4\n",
    "\n",
    "print(f\"el nombre del programa es: {name_progrma} y la suma de los valores {var_3}+{var_4} , es: {suma}\")"
   ]
  },
  {
   "cell_type": "code",
   "execution_count": 14,
   "id": "66c7896e",
   "metadata": {},
   "outputs": [],
   "source": [
    "def suma (numero_1, numero_2):\n",
    "    return numero_1 , numero_2\n",
    "\n"
   ]
  },
  {
   "cell_type": "code",
   "execution_count": 18,
   "id": "34b90f61",
   "metadata": {},
   "outputs": [
    {
     "ename": "TypeError",
     "evalue": "'tuple' object is not callable",
     "output_type": "error",
     "traceback": [
      "\u001b[0;31m---------------------------------------------------------------------------\u001b[0m",
      "\u001b[0;31mTypeError\u001b[0m                                 Traceback (most recent call last)",
      "Cell \u001b[0;32mIn[18], line 4\u001b[0m\n\u001b[1;32m      1\u001b[0m var_3 \u001b[38;5;241m=\u001b[39m \u001b[38;5;28mfloat\u001b[39m(\u001b[38;5;28minput\u001b[39m(\u001b[38;5;124m'\u001b[39m\u001b[38;5;124mIntroduce el primer valor\u001b[39m\u001b[38;5;124m'\u001b[39m))\n\u001b[1;32m      2\u001b[0m var_4 \u001b[38;5;241m=\u001b[39m \u001b[38;5;28mfloat\u001b[39m(\u001b[38;5;28minput\u001b[39m(\u001b[38;5;124m'\u001b[39m\u001b[38;5;124mIntroduce el primer valor\u001b[39m\u001b[38;5;124m'\u001b[39m))\n\u001b[0;32m----> 4\u001b[0m suma \u001b[38;5;241m=\u001b[39m \u001b[43msuma\u001b[49m\u001b[43m(\u001b[49m\u001b[43mvar_3\u001b[49m\u001b[43m,\u001b[49m\u001b[43m \u001b[49m\u001b[43mvar_4\u001b[49m\u001b[43m)\u001b[49m\n\u001b[1;32m      5\u001b[0m \u001b[38;5;28mprint\u001b[39m(suma)\n",
      "\u001b[0;31mTypeError\u001b[0m: 'tuple' object is not callable"
     ]
    }
   ],
   "source": [
    "var_3 = float(input('Introduce el primer valor'))\n",
    "var_4 = float(input('Introduce el primer valor'))\n",
    "\n",
    "suma = suma(var_3, var_4)\n",
    "print(suma)"
   ]
  }
 ],
 "metadata": {
  "kernelspec": {
   "display_name": "Python 3",
   "language": "python",
   "name": "python3"
  },
  "language_info": {
   "codemirror_mode": {
    "name": "ipython",
    "version": 3
   },
   "file_extension": ".py",
   "mimetype": "text/x-python",
   "name": "python",
   "nbconvert_exporter": "python",
   "pygments_lexer": "ipython3",
   "version": "3.10.12"
  }
 },
 "nbformat": 4,
 "nbformat_minor": 5
}
