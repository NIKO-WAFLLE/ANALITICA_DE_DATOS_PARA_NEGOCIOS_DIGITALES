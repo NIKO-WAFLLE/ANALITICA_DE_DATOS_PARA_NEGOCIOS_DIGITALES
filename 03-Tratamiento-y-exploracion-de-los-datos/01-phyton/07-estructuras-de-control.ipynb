{
 "cells": [
  {
   "cell_type": "markdown",
   "id": "929e5368",
   "metadata": {},
   "source": [
    "## estructuras de control \n",
    "### objetivo de control\n",
    "    - Conoser las estructuras de control,  como funcionan y para que sirven \n",
    "## Desarrollo\n",
    "queremos darle a nuestro programa la capacidad de tomar deciones esto puede utilisar una `sentencia if` utilisa una comparacion para obtener un boolean es`True`, es bloque de la sentencia se ejecuta si el bloque es el booleano `false` nos saltamos a lo que sige despies del bloque  \n"
   ]
  },
  {
   "cell_type": "code",
   "execution_count": 1,
   "id": "024b07d6",
   "metadata": {},
   "outputs": [],
   "source": [
    "var_1 = 4\n",
    "var_2 = 5"
   ]
  },
  {
   "cell_type": "code",
   "execution_count": 2,
   "id": "2aca06cf",
   "metadata": {},
   "outputs": [
    {
     "name": "stdout",
     "output_type": "stream",
     "text": [
      "el bloque se ha ejecutado\n"
     ]
    }
   ],
   "source": [
    "if var_1 < var_2:\n",
    "    print(\"el bloque se ha ejecutado\")"
   ]
  },
  {
   "cell_type": "code",
   "execution_count": 4,
   "id": "b3c13ddd",
   "metadata": {},
   "outputs": [],
   "source": [
    "var_2 = int(input(\"introduce el valor\"))\n",
    "var_1 = int(input(\"introduce el valor\"))\n",
    "if var_1 < var_2:\n",
    "      print(f\"el numero {var_1} es menor que el numero {var_2}\")"
   ]
  },
  {
   "cell_type": "code",
   "execution_count": 7,
   "id": "46fa8716",
   "metadata": {},
   "outputs": [],
   "source": [
    "# funcion que solicita un valor \n",
    "def solisitar ():\n",
    "    return int(input(\"introduce el valor\"))"
   ]
  },
  {
   "cell_type": "code",
   "execution_count": null,
   "id": "929a88a7",
   "metadata": {},
   "outputs": [],
   "source": [
    "# ejecucion de las funciones \n",
    "def comparar (valor_1, valor_2):\n",
    "    if valor_1 < valor_2:\n",
    "        print (f\"el numero{var_1} es menor que el nuermo {var_2} \")"
   ]
  },
  {
   "cell_type": "code",
   "execution_count": 6,
   "id": "1a6361e8",
   "metadata": {},
   "outputs": [
    {
     "ename": "NameError",
     "evalue": "name 'solisitar' is not defined",
     "output_type": "error",
     "traceback": [
      "\u001b[0;31m---------------------------------------------------------------------------\u001b[0m",
      "\u001b[0;31mNameError\u001b[0m                                 Traceback (most recent call last)",
      "Cell \u001b[0;32mIn[6], line 1\u001b[0m\n\u001b[0;32m----> 1\u001b[0m var_1 \u001b[38;5;241m=\u001b[39m \u001b[43msolisitar\u001b[49m()\n\u001b[1;32m      2\u001b[0m var_2 \u001b[38;5;241m=\u001b[39m solisitar()\n\u001b[1;32m      3\u001b[0m comparar (var_1, var_2)\n",
      "\u001b[0;31mNameError\u001b[0m: name 'solisitar' is not defined"
     ]
    }
   ],
   "source": [
    "var_1 = solisitar()\n",
    "var_2 = solisitar()\n",
    "comparar (var_1, var_2)"
   ]
  },
  {
   "cell_type": "markdown",
   "id": "a734020a",
   "metadata": {},
   "source": [
    "1. ** desarrollar un programa que determine si un numero es positivo**\n",
    "1. ** desarrollar un programa que determine si puedes votar, la edad minima es 18**\n",
    "1. ** verificar si un numero es par**\n",
    "1. ** realisar a simulacion de un login, en el cual se debe verificar la contraseña es correcta** \n",
    "1. ** realisar un programa que determine si un alumno esta aprobado, la calificacion minima es 7**"
   ]
  },
  {
   "cell_type": "code",
   "execution_count": null,
   "id": "75360737",
   "metadata": {},
   "outputs": [
    {
     "name": "stdout",
     "output_type": "stream",
     "text": [
      "introduce el valor \n",
      "el valor ingresado es positivo\n"
     ]
    }
   ],
   "source": [
    "# 1\n",
    "print(\"introduce el valor \")\n",
    "var_1 = solisitar()\n",
    "var_2 = 0\n",
    "\n",
    "if var_1 >= var_2:\n",
    "    print(\"el valor ingresado es positivo\")\n",
    "else:\n",
    "    print(f\"el numero {var_1} negativo\")\n"
   ]
  },
  {
   "cell_type": "code",
   "execution_count": null,
   "id": "df4f0a57",
   "metadata": {},
   "outputs": [
    {
     "name": "stdout",
     "output_type": "stream",
     "text": [
      "introduce la edad del votante \n",
      "el solisitante puede votar\n"
     ]
    }
   ],
   "source": [
    "# 2 \n",
    "print(\"introduce la edad del votante \")\n",
    "var_1 = solisitar()\n",
    "var_2 = 18\n",
    "\n",
    "if var_1 >= var_2:\n",
    "    print(\"el solisitante puede votar\")\n",
    "else:\n",
    "    print(f\"la edad {var_1} no es valida\")"
   ]
  },
  {
   "cell_type": "code",
   "execution_count": null,
   "id": "ada10b63",
   "metadata": {},
   "outputs": [
    {
     "name": "stdout",
     "output_type": "stream",
     "text": [
      "introduce el valor \n",
      "la pasword 85 es impart\n"
     ]
    }
   ],
   "source": [
    "# 3 \n",
    "print(\"introduce el valor \")\n",
    "var_1 = solisitar()\n",
    "if var_1 % 2 == 0:\n",
    "    print(f'el {var_1} es par')\n",
    "else:\n",
    "    print(f\"la pasword {var_1} es impart\")"
   ]
  },
  {
   "cell_type": "code",
   "execution_count": null,
   "id": "ea308593",
   "metadata": {},
   "outputs": [
    {
     "name": "stdout",
     "output_type": "stream",
     "text": [
      "password invalidad\n"
     ]
    }
   ],
   "source": [
    "# 4 \n",
    "var_1 = input(\"introduce la password\")\n",
    "var_2 = \"hola\"\n",
    "\n",
    "if var_1 == var_2:\n",
    "    print(\"bienvenido\")\n",
    "else:\n",
    "    print(f\"password invalidad\")"
   ]
  },
  {
   "cell_type": "code",
   "execution_count": 5,
   "id": "84f391f5",
   "metadata": {},
   "outputs": [
    {
     "name": "stdout",
     "output_type": "stream",
     "text": [
      "calificacion del alumno\n"
     ]
    },
    {
     "ename": "NameError",
     "evalue": "name 'solisitar' is not defined",
     "output_type": "error",
     "traceback": [
      "\u001b[0;31m---------------------------------------------------------------------------\u001b[0m",
      "\u001b[0;31mNameError\u001b[0m                                 Traceback (most recent call last)",
      "Cell \u001b[0;32mIn[5], line 3\u001b[0m\n\u001b[1;32m      1\u001b[0m \u001b[38;5;66;03m# 5 \u001b[39;00m\n\u001b[1;32m      2\u001b[0m \u001b[38;5;28mprint\u001b[39m(\u001b[38;5;124m\"\u001b[39m\u001b[38;5;124mcalificacion del alumno\u001b[39m\u001b[38;5;124m\"\u001b[39m)\n\u001b[0;32m----> 3\u001b[0m var_1 \u001b[38;5;241m=\u001b[39m \u001b[43msolisitar\u001b[49m()\n\u001b[1;32m      5\u001b[0m \u001b[38;5;28;01mif\u001b[39;00m var_1 \u001b[38;5;241m>\u001b[39m\u001b[38;5;241m=\u001b[39m \u001b[38;5;241m7\u001b[39m :\n\u001b[1;32m      6\u001b[0m     \u001b[38;5;28mprint\u001b[39m(\u001b[38;5;124m\"\u001b[39m\u001b[38;5;124mpaso el estudiante\u001b[39m\u001b[38;5;124m\"\u001b[39m)\n",
      "\u001b[0;31mNameError\u001b[0m: name 'solisitar' is not defined"
     ]
    }
   ],
   "source": [
    "# 5 \n",
    "print(\"calificacion del alumno\")\n",
    "var_1 = solisitar()\n",
    "\n",
    "if var_1 >= 7 :\n",
    "    print(\"paso el estudiante\")\n",
    "else:\n",
    "    print(f\"el estudiante no paso\")"
   ]
  },
  {
   "cell_type": "markdown",
   "id": "cf7b4a6d",
   "metadata": {},
   "source": []
  }
 ],
 "metadata": {
  "kernelspec": {
   "display_name": "Python 3",
   "language": "python",
   "name": "python3"
  },
  "language_info": {
   "codemirror_mode": {
    "name": "ipython",
    "version": 3
   },
   "file_extension": ".py",
   "mimetype": "text/x-python",
   "name": "python",
   "nbconvert_exporter": "python",
   "pygments_lexer": "ipython3",
   "version": "3.10.12"
  }
 },
 "nbformat": 4,
 "nbformat_minor": 5
}
