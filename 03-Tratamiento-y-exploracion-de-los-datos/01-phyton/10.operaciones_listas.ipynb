{
 "cells": [
  {
   "cell_type": "markdown",
   "id": "e8f84d96",
   "metadata": {},
   "source": [
    "## operaciones con listas \n",
    "\n",
    "### copiar una lista a otra"
   ]
  },
  {
   "cell_type": "code",
   "execution_count": 14,
   "id": "359f0a1e",
   "metadata": {},
   "outputs": [
    {
     "name": "stdout",
     "output_type": "stream",
     "text": [
      "lista0:[1]\n",
      " lista1 [1]\n"
     ]
    }
   ],
   "source": [
    "lista_0 = [1]\n",
    "lista_1 = lista_0 \n",
    "\n",
    "print(f'lista0:{lista_0}\\n lista1 {lista_1}')"
   ]
  },
  {
   "cell_type": "code",
   "execution_count": 15,
   "id": "62060a00",
   "metadata": {},
   "outputs": [],
   "source": [
    "lista_1.append(10)"
   ]
  },
  {
   "cell_type": "code",
   "execution_count": 16,
   "id": "18e8db96",
   "metadata": {},
   "outputs": [
    {
     "name": "stdout",
     "output_type": "stream",
     "text": [
      "[1, 10]\n"
     ]
    }
   ],
   "source": [
    "print(lista_1)"
   ]
  },
  {
   "cell_type": "code",
   "execution_count": 17,
   "id": "dc7411e6",
   "metadata": {},
   "outputs": [
    {
     "name": "stdout",
     "output_type": "stream",
     "text": [
      "[1, 10]\n"
     ]
    }
   ],
   "source": [
    "print(lista_0)"
   ]
  },
  {
   "cell_type": "markdown",
   "id": "e73f7317",
   "metadata": {},
   "source": [
    "# slicing o rebanadas"
   ]
  },
  {
   "cell_type": "code",
   "execution_count": 18,
   "id": "1d291925",
   "metadata": {},
   "outputs": [
    {
     "data": {
      "text/plain": [
       "[3, 4, 5, 6, 7, 8]"
      ]
     },
     "execution_count": 18,
     "metadata": {},
     "output_type": "execute_result"
    }
   ],
   "source": [
    "list_2 = [3,4,5,6,7,8]\n",
    "list_2 [:]"
   ]
  },
  {
   "cell_type": "code",
   "execution_count": 19,
   "id": "a7d13178",
   "metadata": {},
   "outputs": [
    {
     "data": {
      "text/plain": [
       "[3, 4, 5, 6, 7, 8, 11]"
      ]
     },
     "execution_count": 19,
     "metadata": {},
     "output_type": "execute_result"
    }
   ],
   "source": [
    "list_3 = list_2[:]\n",
    "list_3.append(11)\n",
    "list_3"
   ]
  },
  {
   "cell_type": "code",
   "execution_count": 20,
   "id": "cf461bcc",
   "metadata": {},
   "outputs": [
    {
     "data": {
      "text/plain": [
       "[3, 4, 5, 6, 7, 8, 11]"
      ]
     },
     "execution_count": 20,
     "metadata": {},
     "output_type": "execute_result"
    }
   ],
   "source": [
    "list_3"
   ]
  },
  {
   "cell_type": "code",
   "execution_count": 21,
   "id": "40887b5f",
   "metadata": {},
   "outputs": [
    {
     "name": "stdout",
     "output_type": "stream",
     "text": [
      "[4, 6, 7, 9, 12]\n"
     ]
    }
   ],
   "source": [
    "x = [4,6,7,9,12]\n",
    "y = x.copy()\n",
    "print(y)"
   ]
  },
  {
   "cell_type": "markdown",
   "id": "3ae6963b",
   "metadata": {},
   "source": [
    "### slicing o rebanadas - indice negativos \n",
    "\n",
    "observa el fracmento de codigo a continuacion\n",
    "\n",
    "`my_list[stard:end]`\n",
    "\n",
    "para conformar\n",
    "\n",
    "1.- **start** es el indice del primer elemento incluido en la rebanada\n",
    "\n",
    "2.- **end** es el indice del primer elemento no incluido en la rebanada "
   ]
  },
  {
   "cell_type": "code",
   "execution_count": 22,
   "id": "6aaea5f7",
   "metadata": {},
   "outputs": [
    {
     "name": "stdout",
     "output_type": "stream",
     "text": [
      "la lista es [10, 8, 6, 4, 2]\n",
      " mi nueva lista es de [10, 8, 6]\n"
     ]
    }
   ],
   "source": [
    "my_list = [10,8,6,4,2]\n",
    "\n",
    "my_list [0:3]\n",
    "\n",
    "my_list2 = my_list [0:3]\n",
    "\n",
    "print(f'la lista es {my_list}\\n mi nueva lista es de {my_list2}')"
   ]
  },
  {
   "cell_type": "code",
   "execution_count": 23,
   "id": "34ab0cee",
   "metadata": {},
   "outputs": [
    {
     "name": "stdout",
     "output_type": "stream",
     "text": [
      "la lista es [10, 8, 6, 4, 2]\n",
      " mi nueva lista es de [8, 6, 4]\n"
     ]
    }
   ],
   "source": [
    "my_list2 = my_list [1:-1]\n",
    "\n",
    "print(f'la lista es {my_list}\\n mi nueva lista es de {my_list2}')"
   ]
  },
  {
   "cell_type": "code",
   "execution_count": 24,
   "id": "a197de9d",
   "metadata": {},
   "outputs": [
    {
     "name": "stdout",
     "output_type": "stream",
     "text": [
      "la lista es [10, 8, 6, 4, 2]\n",
      " mi nueva lista es de [10, 8, 6]\n"
     ]
    }
   ],
   "source": [
    "my_list2 = my_list [:-2]\n",
    "\n",
    "print(f'la lista es {my_list}\\n mi nueva lista es de {my_list2}')"
   ]
  },
  {
   "cell_type": "code",
   "execution_count": 25,
   "id": "2d7142b3",
   "metadata": {},
   "outputs": [
    {
     "name": "stdout",
     "output_type": "stream",
     "text": [
      "la lista es [10, 8, 6, 4, 2]\n",
      " mi nueva lista es de [8, 6, 4, 2]\n"
     ]
    }
   ],
   "source": [
    "my_list2 = my_list [1:]\n",
    "\n",
    "print(f'la lista es {my_list}\\n mi nueva lista es de {my_list2}')"
   ]
  },
  {
   "cell_type": "code",
   "execution_count": 26,
   "id": "b64c2ef3",
   "metadata": {},
   "outputs": [
    {
     "name": "stdout",
     "output_type": "stream",
     "text": [
      "la lista es [10, 8, 6, 4, 2]\n",
      " mi nueva lista es de [10, 8, 6, 4, 2]\n"
     ]
    }
   ],
   "source": [
    "my_list2 = my_list [:]\n",
    "\n",
    "print(f'la lista es {my_list}\\n mi nueva lista es de {my_list2}')"
   ]
  },
  {
   "cell_type": "code",
   "execution_count": 27,
   "id": "76d78933",
   "metadata": {},
   "outputs": [
    {
     "name": "stdout",
     "output_type": "stream",
     "text": [
      "la lista es [10, 8, 6, 4, 2]\n",
      " mi nueva lista es de []\n"
     ]
    }
   ],
   "source": [
    "my_list2 = my_list [4:-1]\n",
    "\n",
    "print(f'la lista es {my_list}\\n mi nueva lista es de {my_list2}')"
   ]
  },
  {
   "cell_type": "markdown",
   "id": "c123d7a1",
   "metadata": {},
   "source": [
    "Dada la lista [10,8,6,4,2] eliminar los numeros 8 y el 6 "
   ]
  },
  {
   "cell_type": "code",
   "execution_count": 28,
   "id": "301d520f",
   "metadata": {},
   "outputs": [
    {
     "data": {
      "text/plain": [
       "[10, 4, 2]"
      ]
     },
     "execution_count": 28,
     "metadata": {},
     "output_type": "execute_result"
    }
   ],
   "source": [
    "lista_3 = [10, 8, 6, 4, 2]\n",
    "\n",
    "del lista_3[1:3]\n",
    "\n",
    "lista_3"
   ]
  },
  {
   "cell_type": "markdown",
   "id": "8033383b",
   "metadata": {},
   "source": [
    "### `pop` remueve el ultimo elemento de la lista si se llama sin argumentos"
   ]
  },
  {
   "cell_type": "code",
   "execution_count": 29,
   "id": "9ecd8e21",
   "metadata": {},
   "outputs": [
    {
     "data": {
      "text/plain": [
       "[10, 4]"
      ]
     },
     "execution_count": 29,
     "metadata": {},
     "output_type": "execute_result"
    }
   ],
   "source": [
    "lista_3.pop()\n",
    "lista_3"
   ]
  },
  {
   "cell_type": "code",
   "execution_count": 30,
   "id": "b7b43375",
   "metadata": {},
   "outputs": [
    {
     "name": "stdout",
     "output_type": "stream",
     "text": [
      "['a', 12, True]\n",
      "<class 'list'>\n"
     ]
    }
   ],
   "source": [
    "list_example = [\"a\", 12, True]\n",
    "print(list_example)\n",
    "print(type(list_example))"
   ]
  },
  {
   "cell_type": "code",
   "execution_count": 31,
   "id": "71f38530",
   "metadata": {},
   "outputs": [
    {
     "name": "stdout",
     "output_type": "stream",
     "text": [
      "[['hallway', 100], ['kitchen', 85]]\n",
      "<class 'list'>\n"
     ]
    }
   ],
   "source": [
    "# listas de listas \n",
    "\n",
    "list_house = [['hallway',100],['kitchen', 85]]\n",
    "print(list_house)\n",
    "print(type(list_house))"
   ]
  },
  {
   "cell_type": "code",
   "execution_count": 32,
   "id": "78ef3dc8",
   "metadata": {},
   "outputs": [
    {
     "data": {
      "text/plain": [
       "100"
      ]
     },
     "execution_count": 32,
     "metadata": {},
     "output_type": "execute_result"
    }
   ],
   "source": [
    "# tiene acceso a la lista en la posicion 0 y su elemento en la posicion 1\n",
    "\n",
    "list_house[0][1]"
   ]
  },
  {
   "cell_type": "code",
   "execution_count": 33,
   "id": "e2743b2e",
   "metadata": {},
   "outputs": [
    {
     "name": "stdout",
     "output_type": "stream",
     "text": [
      "['heydy', 22, 'ines', 54, 'henry', 33, 'oscar', 38]\n"
     ]
    }
   ],
   "source": [
    "list_family = ['heydy', 22, 'ines', 54, 'henry', 33, 'oscar', 38]\n",
    "print(list_family)\n"
   ]
  },
  {
   "cell_type": "code",
   "execution_count": 34,
   "id": "b341541b",
   "metadata": {},
   "outputs": [
    {
     "name": "stdout",
     "output_type": "stream",
     "text": [
      "ines\n",
      "ines\n"
     ]
    }
   ],
   "source": [
    "print(list_family[2])\n",
    "\n",
    "print(list_family[-6])"
   ]
  },
  {
   "cell_type": "code",
   "execution_count": 35,
   "id": "a4a87d33",
   "metadata": {},
   "outputs": [
    {
     "name": "stdout",
     "output_type": "stream",
     "text": [
      "[54, 'henry']\n"
     ]
    }
   ],
   "source": [
    "# slicing [start: end]\n",
    "#          inclusive: exclusive\n",
    "\n",
    "print(list_family[3:5]) # no toma el ultimo digito"
   ]
  },
  {
   "cell_type": "code",
   "execution_count": 36,
   "id": "c75c14f4",
   "metadata": {},
   "outputs": [
    {
     "name": "stdout",
     "output_type": "stream",
     "text": [
      "[54, 'henry']\n",
      "['heydy', 22, 'ines', 54, 'henry']\n",
      "[33, 'oscar', 38]\n"
     ]
    }
   ],
   "source": [
    "print(list_family[3:5])   # no toma el último dígito\n",
    "print(list_family[:5])    # Desde el inicio hasta la posición 4\n",
    "print(list_family[5:])    # Desde la posición 5 hasta el final\n"
   ]
  },
  {
   "cell_type": "code",
   "execution_count": 37,
   "id": "39b84ac7",
   "metadata": {},
   "outputs": [
    {
     "name": "stdout",
     "output_type": "stream",
     "text": [
      "['heydy', 22, 'ines', 54, 'henry', 33, 'oscar', 37]\n",
      "['Mayumy', 24, True, 'ines', 54, 'henry', 33, 'oscar', 37]\n"
     ]
    }
   ],
   "source": [
    "list_family[-1] = 37\n",
    "print(list_family)\n",
    "\n",
    "list_family[:2] = [\"Mayumy\", 24, True]\n",
    "print(list_family)\n"
   ]
  },
  {
   "cell_type": "code",
   "execution_count": 38,
   "id": "26e9bad1",
   "metadata": {},
   "outputs": [
    {
     "name": "stdout",
     "output_type": "stream",
     "text": [
      "['Mayumy', 24, True, 'ines', 54, 'henry', 33, 'oscar', 37, 'Achuchena', 12]\n",
      "['Mayumy', 24, True, 54, 'henry', 33, 'oscar', 37, 'Achuchena', 12]\n"
     ]
    }
   ],
   "source": [
    "# agregar y remover elementos de la lista\n",
    "\n",
    "# Agregar\n",
    "fam_Ext = list_family + ['Achuchena', 12]\n",
    "print(fam_Ext)\n",
    "\n",
    "# Eliminar\n",
    "del(fam_Ext[3])\n",
    "#fam_Ext.pop(3)\n",
    "#fam_Ext.remove(54)\n",
    "print(fam_Ext)\n"
   ]
  },
  {
   "cell_type": "code",
   "execution_count": 46,
   "id": "875f6a1c",
   "metadata": {},
   "outputs": [
    {
     "name": "stdout",
     "output_type": "stream",
     "text": [
      "['hallway', 11.25, 'kitchen', 18.0, 'chill zone', 20.0, 'bedroom', 10.75, 'bathroom', 10.5, 'poolhouse', 24.5, 'garage', 15.45]\n",
      "\n",
      "['hallway', 11.25, 'kitchen', 18.0, 'chill zone', 20.0, 'bedroom', 10.75, 'bathroom', 10.5, 'garage', 15.45]\n"
     ]
    }
   ],
   "source": [
    "# eliminar poolhouse y 24.5\n",
    "areas = [\"hallway\", 11.25, \"kitchen\", 18.0,\n",
    "    \"chill zone\", 20.0, \"bedroom\", 10.75,\n",
    "    \"bathroom\", 10.50, \"poolhouse\", 24.5,\n",
    "    \"garage\", 15.45\n",
    "]\n",
    "print(areas)\n",
    "del(areas[10:12]) \n",
    "print()\n",
    "print(areas)\n",
    "\n",
    "\n",
    "\n",
    "\n"
   ]
  },
  {
   "cell_type": "markdown",
   "id": "217a7250",
   "metadata": {},
   "source": [
    "# Funcines y paquetes "
   ]
  },
  {
   "cell_type": "markdown",
   "id": "499a759f",
   "metadata": {},
   "source": [
    "es una puesa de codigo reutilizable, destinada a resolver una tarea en particular"
   ]
  },
  {
   "cell_type": "code",
   "execution_count": 47,
   "id": "9d8a80ec",
   "metadata": {},
   "outputs": [
    {
     "name": "stdout",
     "output_type": "stream",
     "text": [
      "[22, 54, 43, 38, 36]\n",
      "El tamaño de la lista es 5\n",
      "El valor máximo de la lista es 54\n"
     ]
    }
   ],
   "source": [
    "list_fam = [22, 54, 43, 38, 36]\n",
    "\n",
    "print(list_fam)\n",
    "print(f'El tamaño de la lista es {len(list_fam)}')\n",
    "print(f'El valor máximo de la lista es {max(list_fam)}')\n"
   ]
  },
  {
   "cell_type": "code",
   "execution_count": 48,
   "id": "cd21eb10",
   "metadata": {},
   "outputs": [
    {
     "data": {
      "text/plain": [
       "1689"
      ]
     },
     "execution_count": 48,
     "metadata": {},
     "output_type": "execute_result"
    }
   ],
   "source": [
    "round(1689,2)"
   ]
  },
  {
   "cell_type": "code",
   "execution_count": 49,
   "id": "8c99d06f",
   "metadata": {},
   "outputs": [
    {
     "name": "stdout",
     "output_type": "stream",
     "text": [
      "Help on built-in function round in module builtins:\n",
      "\n",
      "round(number, ndigits=None)\n",
      "    Round a number to a given precision in decimal digits.\n",
      "    \n",
      "    The return value is an integer if ndigits is omitted or None.  Otherwise\n",
      "    the return value has the same type as the number.  ndigits may be negative.\n",
      "\n"
     ]
    }
   ],
   "source": [
    "help(round)"
   ]
  },
  {
   "cell_type": "code",
   "execution_count": 50,
   "id": "2f8be154",
   "metadata": {},
   "outputs": [
    {
     "name": "stdout",
     "output_type": "stream",
     "text": [
      "[18.0, 20.0, 51.25]\n",
      "[18.0, 20.0, 51.25]\n",
      "[51.25, 20.0, 18.0]\n"
     ]
    }
   ],
   "source": [
    "firt = [51.25, 18.0 , 20.0]\n",
    "full_sorted = sorted(firt) # ordena de froma ascendente\n",
    "full_sorted_asc = sorted(firt ,reverse=False) # asendente\n",
    "full_sorted_desc = sorted(firt, reverse=True) # descendente\n",
    "\n",
    "print(full_sorted)\n",
    "print(full_sorted_asc)\n",
    "print(full_sorted_desc)\n"
   ]
  },
  {
   "cell_type": "markdown",
   "id": "03168bee",
   "metadata": {},
   "source": [
    "### **metodos**\n",
    "\n",
    "en pyrhon todos es objeto. y cada objeto tinene metodos especificos asociesados \n",
    "\n",
    "- objetos cpn diferentes tipos pueden tener metodos con el mismo nombre"
   ]
  },
  {
   "cell_type": "code",
   "execution_count": 51,
   "id": "8ae75cc5",
   "metadata": {},
   "outputs": [
    {
     "name": "stdout",
     "output_type": "stream",
     "text": [
      "indice: 4\n"
     ]
    }
   ],
   "source": [
    "lis_fam = ['heydy', 22, 'ines', 54, 'henry', 33, 'oscar', 54]\n",
    "\n",
    "print(f\"indice: {lis_fam.index('henry')}\")  # Obtiene el índice de la lista\n"
   ]
  },
  {
   "cell_type": "code",
   "execution_count": 52,
   "id": "1a106066",
   "metadata": {},
   "outputs": [
    {
     "name": "stdout",
     "output_type": "stream",
     "text": [
      "['heydy', 22, 'ines', 54, 33, 'oscar', 54]\n"
     ]
    }
   ],
   "source": [
    "del(lis_fam[lis_fam.index('henry')])\n",
    "print(lis_fam)\n"
   ]
  },
  {
   "cell_type": "code",
   "execution_count": null,
   "id": "d6dcfc94",
   "metadata": {},
   "outputs": [
    {
     "name": "stdout",
     "output_type": "stream",
     "text": [
      "Susel\n",
      "['susel', 'brandon', 'alejandro', 'grabiel']\n"
     ]
    }
   ],
   "source": [
    "list_entornos = ['susel','brandon', 'alejandro', 'grabiel']\n",
    "print(list_entornos[0].capitalize())\n",
    "list_entornos = list_entornos[0].capitalize()\n",
    "print(list_entornos)"
   ]
  },
  {
   "cell_type": "code",
   "execution_count": 54,
   "id": "24e06ad4",
   "metadata": {},
   "outputs": [
    {
     "name": "stdout",
     "output_type": "stream",
     "text": [
      "Mayumi\n"
     ]
    }
   ],
   "source": [
    "name = \"mayumi\"\n",
    "print(name.capitalize())\n"
   ]
  },
  {
   "cell_type": "code",
   "execution_count": 57,
   "id": "3593e594",
   "metadata": {},
   "outputs": [
    {
     "name": "stdout",
     "output_type": "stream",
     "text": [
      "ma*umi\n"
     ]
    }
   ],
   "source": [
    "print(name.replace('y','*'))"
   ]
  },
  {
   "cell_type": "code",
   "execution_count": null,
   "id": "2e608b30",
   "metadata": {},
   "outputs": [],
   "source": [
    "name.upper"
   ]
  },
  {
   "cell_type": "code",
   "execution_count": null,
   "id": "a08ffd27",
   "metadata": {},
   "outputs": [],
   "source": [
    "print(lis_fam)\n",
    "list_fam.reverse()\n",
    "print(lis_fam)"
   ]
  }
 ],
 "metadata": {
  "kernelspec": {
   "display_name": "Python 3",
   "language": "python",
   "name": "python3"
  },
  "language_info": {
   "codemirror_mode": {
    "name": "ipython",
    "version": 3
   },
   "file_extension": ".py",
   "mimetype": "text/x-python",
   "name": "python",
   "nbconvert_exporter": "python",
   "pygments_lexer": "ipython3",
   "version": "3.10.12"
  }
 },
 "nbformat": 4,
 "nbformat_minor": 5
}
