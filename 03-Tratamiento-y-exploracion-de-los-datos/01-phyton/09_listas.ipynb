{
 "cells": [
  {
   "cell_type": "markdown",
   "id": "7075eb00",
   "metadata": {},
   "source": [
    "# listas \n",
    "\n",
    "1. Objetivos \n",
    "    - enternder la sintaxis de las listas en python\n",
    "    - aprender a crear listas y accesarlas \n",
    "\n",
    "___\n",
    "\n",
    "2. desarrollo:\n",
    "\n",
    "### Creando listas y acccediendo a ellas \n",
    "Las listas son secuencias ordenadas. el orden de los datos en la lista es el mismo orden que tienen los datos a la hora de ser asignados. una lista se ve asi:\n"
   ]
  },
  {
   "cell_type": "code",
   "execution_count": null,
   "id": "0a3588f5",
   "metadata": {},
   "outputs": [],
   "source": [
    "# lista de enteros \n",
    "lsita_1 = [1,4,6, 2,4]\n"
   ]
  },
  {
   "cell_type": "code",
   "execution_count": 2,
   "id": "3a2c6bce",
   "metadata": {},
   "outputs": [
    {
     "data": {
      "text/plain": [
       "list"
      ]
     },
     "execution_count": 2,
     "metadata": {},
     "output_type": "execute_result"
    }
   ],
   "source": [
    "type(lsita_1)"
   ]
  },
  {
   "cell_type": "markdown",
   "id": "0658c5db",
   "metadata": {},
   "source": [
    "cada elecmento de la lista tiene un indice, que se utiliza para acceder a dicho elemento. dado que las listas son ordenadas, los indices se van asignando secuencialmente desde el primer elemento hasta el ultimo. el primer indice es siempre `0` y por lo tanto el ultimo indice es siempre `n-1`, donde `n` es el numero total de los elementos en la lista."
   ]
  },
  {
   "cell_type": "code",
   "execution_count": 6,
   "id": "8d215f4b",
   "metadata": {},
   "outputs": [
    {
     "name": "stdout",
     "output_type": "stream",
     "text": [
      "primer elemento de la lista: 1 \n",
      "ultimo elemento de la lista: 4 \n"
     ]
    }
   ],
   "source": [
    "    # se llama por su id dentro de la lista \n",
    "\n",
    "# imprimer el primer elemento de la lista\n",
    "\n",
    "print(f'primer elemento de la lista: {lsita_1[0]} ')\n",
    "\n",
    "# imprimir el ultimo elemento de la lista \n",
    "\n",
    "print(f'ultimo elemento de la lista: {lsita_1[4]} ')\n"
   ]
  },
  {
   "cell_type": "code",
   "execution_count": 2,
   "id": "1ee6d4f5",
   "metadata": {},
   "outputs": [
    {
     "name": "stdout",
     "output_type": "stream",
     "text": [
      "imprimir el contenido de la lista [10, 5, 7, 2, 1]\n",
      "<class 'list'>\n"
     ]
    }
   ],
   "source": [
    "numbers= [10,5,7,2,1]\n",
    "\n",
    "# imprimir el contenido de la lista \n",
    "\n",
    "print(f'imprimir el contenido de la lista {numbers}')\n",
    "print(type(numbers))"
   ]
  },
  {
   "cell_type": "code",
   "execution_count": 3,
   "id": "26a6f9c6",
   "metadata": {},
   "outputs": [
    {
     "data": {
      "text/plain": [
       "2"
      ]
     },
     "execution_count": 3,
     "metadata": {},
     "output_type": "execute_result"
    }
   ],
   "source": [
    "# permite accesar al valor que se encuentra en la posicion \n",
    "\n",
    "numbers[3]"
   ]
  },
  {
   "cell_type": "markdown",
   "id": "f2d2ffa4",
   "metadata": {},
   "source": [
    "vamos a asignar un nuevo valor 111 al primer elemento de la lista"
   ]
  },
  {
   "cell_type": "code",
   "execution_count": 4,
   "id": "8aca8783",
   "metadata": {},
   "outputs": [
    {
     "name": "stdout",
     "output_type": "stream",
     "text": [
      "[111, 5, 7, 2, 1]\n"
     ]
    }
   ],
   "source": [
    "numbers[0]= 111\n",
    "print(numbers)"
   ]
  },
  {
   "cell_type": "code",
   "execution_count": 5,
   "id": "5e0aa5c0",
   "metadata": {},
   "outputs": [
    {
     "name": "stdout",
     "output_type": "stream",
     "text": [
      "[111, 1, 7, 2, 1]\n"
     ]
    }
   ],
   "source": [
    "# copiar el valor del quineto elemento al segundo\n",
    "numbers[1] = numbers[-1]\n",
    "\n",
    "print(numbers)"
   ]
  },
  {
   "cell_type": "code",
   "execution_count": 6,
   "id": "94b9977a",
   "metadata": {},
   "outputs": [
    {
     "name": "stdout",
     "output_type": "stream",
     "text": [
      "1\n"
     ]
    }
   ],
   "source": [
    "print(numbers[-1])"
   ]
  },
  {
   "cell_type": "code",
   "execution_count": 7,
   "id": "57de45ef",
   "metadata": {},
   "outputs": [
    {
     "name": "stdout",
     "output_type": "stream",
     "text": [
      "111\n"
     ]
    }
   ],
   "source": [
    "print(numbers[-5])"
   ]
  },
  {
   "cell_type": "markdown",
   "id": "6377ba04",
   "metadata": {},
   "source": [
    "### Eliminando elementos de la lista\n",
    "\n",
    "Cualquier elemento de la lista puede ser eliminado en cualquier momento - esto se hace con una instrucción llamada `del` (eliminar). Nota: es una instrucción, no una función.\n",
    "\n",
    "Tienes que apuntar al elemento que quieres eliminar - desaparecerá de la lista y la longitud de la lista se reducirá en uno."
   ]
  },
  {
   "cell_type": "code",
   "execution_count": 9,
   "id": "7557e8ac",
   "metadata": {},
   "outputs": [
    {
     "name": "stdout",
     "output_type": "stream",
     "text": [
      "la lista actuales [111, 1, 7, 2, 1]\n"
     ]
    }
   ],
   "source": [
    "print(f'la lista actuales {numbers}')\n",
    "del numbers[1]"
   ]
  },
  {
   "cell_type": "code",
   "execution_count": 12,
   "id": "d834f858",
   "metadata": {},
   "outputs": [
    {
     "name": "stdout",
     "output_type": "stream",
     "text": [
      "[111, 7, 2, 1]\n",
      "el tamo de la lista es de 4\n"
     ]
    }
   ],
   "source": [
    "print(numbers)\n",
    "print(f'el tamo de la lista es de {len(numbers)}')"
   ]
  },
  {
   "cell_type": "code",
   "execution_count": 13,
   "id": "e863b845",
   "metadata": {},
   "outputs": [
    {
     "name": "stdout",
     "output_type": "stream",
     "text": [
      "la  lista actual es : [111, 7, 1]\n",
      "el tamoño de la lita es 3\n"
     ]
    }
   ],
   "source": [
    "del numbers[-2]\n",
    "print(f'la  lista actual es : {numbers}')\n",
    "print(f'el tamoño de la lita es {len(numbers)}')\n"
   ]
  },
  {
   "cell_type": "code",
   "execution_count": 14,
   "id": "829cd575",
   "metadata": {},
   "outputs": [],
   "source": [
    "lista_prueva = [1,2,4,6,2,11]\n",
    "# remove -> elimina o remueve la primera coincidencia de un valor que se le indica\n",
    "lista_prueva.remove(2)\n"
   ]
  },
  {
   "cell_type": "code",
   "execution_count": 15,
   "id": "d65aa649",
   "metadata": {},
   "outputs": [
    {
     "name": "stdout",
     "output_type": "stream",
     "text": [
      "la lista actual es : [1, 4, 6, 2, 11]\n",
      "tamaño de la lista es 5\n"
     ]
    }
   ],
   "source": [
    "print(f'la lista actual es : {lista_prueva}')\n",
    "print(f'tamaño de la lista es {len(lista_prueva)}')\n"
   ]
  },
  {
   "cell_type": "code",
   "execution_count": 21,
   "id": "af5656bf",
   "metadata": {},
   "outputs": [],
   "source": [
    "lista_prueva = [1,2,4,6,2,11]"
   ]
  },
  {
   "cell_type": "code",
   "execution_count": 19,
   "id": "04fa5b78",
   "metadata": {},
   "outputs": [],
   "source": [
    "def eliminar(valor):\n",
    "    for indece, elemento in  enumerate(lista_prueva):\n",
    "        if elemento == valor:\n",
    "            del lista_prueva[indece]"
   ]
  },
  {
   "cell_type": "code",
   "execution_count": 22,
   "id": "7ff27ed2",
   "metadata": {},
   "outputs": [
    {
     "name": "stdout",
     "output_type": "stream",
     "text": [
      "lista actuales [1, 2, 4, 6, 2, 11]\n",
      "Lista despues de eliminar [1, 4, 6, 11]\n"
     ]
    }
   ],
   "source": [
    "print(f'lista actuales {lista_prueva}')\n",
    "eliminar(2)\n",
    "print(f'Lista despues de eliminar { lista_prueva}')"
   ]
  },
  {
   "cell_type": "markdown",
   "id": "01bd0b01",
   "metadata": {},
   "source": [
    "### los indices negativos son legaloes \n",
    "\n",
    "`un elemento con indice iguala -1  es el ultimo en la lista`\n",
    "___\n",
    "\n",
    "## agregado a una lista: append() e insert()\n",
    "\n",
    "`list.append(value)`\n",
    "\n",
    "el metodo`insert()` es un poco mas inteligente puede agregar un nuevo elemto en cualquier lugar de la lista no solo al final\n",
    "\n",
    "`list.insert(location,values)`\n",
    "\n",
    "Toma dos argumentos:\n",
    "\n",
    "- el primero muestra la ubicación requerida del elemento a insertar; nota: todos los elementos existentes que ocupan ubicaciones a la derecha del nuevo elemento (incluido el que está en la posición indicada) se desplazan a la derecha, para hacer espacio para el nuevo elemento;\n",
    "-  el segundo es el elemento a insertar.\n",
    "\n"
   ]
  },
  {
   "cell_type": "code",
   "execution_count": 23,
   "id": "6d19fe2a",
   "metadata": {},
   "outputs": [
    {
     "name": "stdout",
     "output_type": "stream",
     "text": [
      "el ultimo de la lista 1\n"
     ]
    }
   ],
   "source": [
    "numbers_2 = [111,7,2,1]\n",
    "print(f'el ultimo de la lista {numbers[-1]}')"
   ]
  },
  {
   "cell_type": "code",
   "execution_count": 24,
   "id": "3a977354",
   "metadata": {},
   "outputs": [],
   "source": [
    "hat_list = [ 1,2,3,4,5] # esta es una  lista existente de numeros ocultos en el sombrero\n",
    "#paso 1 : escribe una linea de codigo que solicite al usuario remplasar\n",
    "#  el numero de medio con un numero entero ingresado por el usuario\n",
    "\n",
    "# paso 2 : escribe aqui una linea de codigo que elimin el ultimo elemento de la lista.\n",
    "\n",
    "# paso 3 : escribe aqui una linea de codigo que imprima la longitud de la lista existente\n"
   ]
  },
  {
   "cell_type": "code",
   "execution_count": 25,
   "id": "b41606be",
   "metadata": {},
   "outputs": [
    {
     "name": "stdout",
     "output_type": "stream",
     "text": [
      "la lista original es: [123, 8, 4, 1]\n",
      "el tamaño de la lista es: 4\n",
      "la lista despues de agregar al final es : [123, 8, 4, 1, 10]\n",
      "el tamaño de la lista es : 5\n"
     ]
    }
   ],
   "source": [
    "## metodo append\n",
    "numbers_3 = [123, 8, 4, 1]\n",
    "print(f'la lista original es: {numbers_3}')\n",
    "print(f'el tamaño de la lista es: {len(numbers_3)}')\n",
    "\n",
    "# agregar un valor al final de la lista con el metodo append\n",
    "numbers_3.append(10)\n",
    "print(f'la lista despues de agregar al final es : {numbers_3}')\n",
    "print(f'el tamaño de la lista es : {len(numbers_3)}')\n"
   ]
  },
  {
   "cell_type": "code",
   "execution_count": 26,
   "id": "0da830d1",
   "metadata": {},
   "outputs": [
    {
     "name": "stdout",
     "output_type": "stream",
     "text": [
      "La lista actual es: [123, 8, 4, 1, 10]\n",
      "El tamaño de la lista es: 5\n",
      "La lista actual es: [222, 123, 8, 4, 1, 10]\n",
      "El tamaño de la lista es: 6\n"
     ]
    }
   ],
   "source": [
    "## Método insert\n",
    "print(f'La lista actual es: {numbers_3}')\n",
    "print(f'El tamaño de la lista es: {len(numbers_3)}')\n",
    "\n",
    "numbers_3.insert(0, 222)\n",
    "print(f'La lista actual es: {numbers_3}')\n",
    "print(f'El tamaño de la lista es: {len(numbers_3)}')\n"
   ]
  },
  {
   "cell_type": "code",
   "execution_count": 31,
   "id": "b5fa0607",
   "metadata": {},
   "outputs": [],
   "source": [
    "def llenar_lista_append(valor):\n",
    "    my_list = []  # crea una lista vacía\n",
    "    for i in range(valor):\n",
    "        my_list.append(i + 1)\n",
    "    return my_list\n",
    "    return"
   ]
  },
  {
   "cell_type": "code",
   "execution_count": 34,
   "id": "eb865e33",
   "metadata": {},
   "outputs": [],
   "source": [
    "def imprimir_lista(lista):\n",
    "    print(f'la lista es: {lista}')"
   ]
  },
  {
   "cell_type": "code",
   "execution_count": 39,
   "id": "40407e19",
   "metadata": {},
   "outputs": [
    {
     "name": "stdout",
     "output_type": "stream",
     "text": [
      "la lista es: [1, 2, 3, 4, 5, 6, 7, 8, 9, 10]\n"
     ]
    }
   ],
   "source": [
    "lista = llenar_lista_append(10)\n",
    "imprimir_lista(lista)"
   ]
  },
  {
   "cell_type": "code",
   "execution_count": 40,
   "id": "16e5cb5a",
   "metadata": {},
   "outputs": [
    {
     "name": "stdout",
     "output_type": "stream",
     "text": [
      "[5, 4, 3, 2, 1]\n"
     ]
    }
   ],
   "source": [
    "my_list = []\n",
    "\n",
    "for i  in range (5):\n",
    "    my_list.insert(0, i+1)\n",
    "print(my_list)"
   ]
  },
  {
   "cell_type": "code",
   "execution_count": 41,
   "id": "5e57da3a",
   "metadata": {},
   "outputs": [
    {
     "name": "stdout",
     "output_type": "stream",
     "text": [
      "10\n",
      "1\n",
      "8\n",
      "3\n",
      "5\n"
     ]
    }
   ],
   "source": [
    "mi_lista = [10,1,8,3,5]\n",
    "\n",
    "for i in mi_lista:\n",
    "    print(i)"
   ]
  },
  {
   "cell_type": "code",
   "execution_count": 44,
   "id": "85c2f44a",
   "metadata": {},
   "outputs": [
    {
     "name": "stdout",
     "output_type": "stream",
     "text": [
      "la suma de los valores de la lista es 27\n"
     ]
    }
   ],
   "source": [
    "# sumar los valores de la lista\n",
    "total = 0 \n",
    "\n",
    "for i in mi_lista:\n",
    "    total+= i\n",
    "\n",
    "print(f'la suma de los valores de la lista es {total}')"
   ]
  },
  {
   "cell_type": "markdown",
   "id": "b591b5d2",
   "metadata": {},
   "source": [
    "### realizar un programa que permita almacenar varias calificacioneseb una lista para despues sacar el promedio de ellas, utilisanso una funcion"
   ]
  },
  {
   "cell_type": "code",
   "execution_count": 45,
   "id": "853e71aa",
   "metadata": {},
   "outputs": [],
   "source": [
    "def guardar_calificaciones(numero):\n",
    "    lista_calificaciones = []\n",
    "    i = 1\n",
    "\n",
    "    while i <= numero:\n",
    "        calificacion = float(input(f'Solicita la calificación {i} '))\n",
    "        lista_calificaciones.append(calificacion)\n",
    "        i += 1\n",
    "\n",
    "    return lista_calificaciones\n"
   ]
  },
  {
   "cell_type": "code",
   "execution_count": 46,
   "id": "fbc7b1bd",
   "metadata": {},
   "outputs": [],
   "source": [
    "def guardar_calificaciones_2(numero):\n",
    "    lista_calificaciones = []\n",
    "    i = 1\n",
    "\n",
    "    for i in range(numero):\n",
    "        calificacion = float(input(f'Solicita la calificación {i + 1} '))\n",
    "        lista_calificaciones.append(calificacion)\n",
    "\n",
    "    return lista_calificaciones\n"
   ]
  },
  {
   "cell_type": "code",
   "execution_count": 47,
   "id": "544d96d3",
   "metadata": {},
   "outputs": [
    {
     "name": "stdout",
     "output_type": "stream",
     "text": [
      "[5.0, 8.0, 8.0]\n"
     ]
    }
   ],
   "source": [
    "lista = guardar_calificaciones_2(3)\n",
    "print(lista)\n"
   ]
  },
  {
   "cell_type": "markdown",
   "id": "85957c1e",
   "metadata": {},
   "source": [
    "## imagina que nesesitas organisar los elementos de una lista, es decir, reveritr rl orden de los elementos es decir el quinto, asi como es segundo y el cuerto elemento seran intercambiados. el tercero permanecera inteacto\n",
    "\n",
    "pregunta: como se puede inter cambiar los valores de dos variables?"
   ]
  },
  {
   "cell_type": "code",
   "execution_count": 3,
   "id": "ee73bd79",
   "metadata": {},
   "outputs": [
    {
     "name": "stdout",
     "output_type": "stream",
     "text": [
      "1\n",
      "1\n"
     ]
    }
   ],
   "source": [
    "variable_1 = 1\n",
    "variable_2 = 2\n",
    "\n",
    "variable_2 = variable_1\n",
    "variable_1 = variable_2\n",
    "\n",
    "print(variable_2)\n",
    "print(variable_1)"
   ]
  },
  {
   "cell_type": "code",
   "execution_count": null,
   "id": "2e0d109d",
   "metadata": {},
   "outputs": [
    {
     "name": "stdout",
     "output_type": "stream",
     "text": [
      "1\n",
      "2\n"
     ]
    }
   ],
   "source": [
    "variable_1 = 1\n",
    "variable_2 = 2\n",
    "\n",
    "aux = variable_1\n",
    "variable_1 = variable_2\n",
    "variable_2 = aux\n",
    "\n",
    "print(variable_2)\n",
    "print(variable_1)"
   ]
  },
  {
   "cell_type": "code",
   "execution_count": 7,
   "id": "ff86ab70",
   "metadata": {},
   "outputs": [
    {
     "name": "stdout",
     "output_type": "stream",
     "text": [
      "el valor de la variable 1 es 2\n",
      " el valor de la variable 2 es 1\n"
     ]
    }
   ],
   "source": [
    "variable_1 = 1\n",
    "variable_2 = 2\n",
    "\n",
    "variable_1, variable_2 = variable_2, variable_1\n",
    "\n",
    "print(f'el valor de la variable 1 es {variable_1}\\n el valor de la variable 2 es {variable_2}')\n"
   ]
  },
  {
   "cell_type": "markdown",
   "id": "eeec9d6b",
   "metadata": {},
   "source": [
    "teniendo una lista llamada mi lista con valores, 10,1,8,3,5 intercambiar el 10 por el 5 y viceversa"
   ]
  },
  {
   "cell_type": "code",
   "execution_count": 17,
   "id": "18c36134",
   "metadata": {},
   "outputs": [
    {
     "name": "stdout",
     "output_type": "stream",
     "text": [
      "mi lista [5, 3, 8, 1, 10]\n"
     ]
    }
   ],
   "source": [
    "lista = [10,1,8,3,5]\n",
    "\n",
    "lista[0], lista[-1] = lista[-1], lista[0]\n",
    "lista[1], lista[-2] = lista[-2], lista[1]\n",
    "\n",
    "lista\n",
    "\n",
    "print(f'mi lista { lista}')"
   ]
  }
 ],
 "metadata": {
  "kernelspec": {
   "display_name": "Python 3",
   "language": "python",
   "name": "python3"
  },
  "language_info": {
   "codemirror_mode": {
    "name": "ipython",
    "version": 3
   },
   "file_extension": ".py",
   "mimetype": "text/x-python",
   "name": "python",
   "nbconvert_exporter": "python",
   "pygments_lexer": "ipython3",
   "version": "3.10.12"
  }
 },
 "nbformat": 4,
 "nbformat_minor": 5
}
