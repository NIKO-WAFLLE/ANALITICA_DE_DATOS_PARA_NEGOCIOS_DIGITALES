{
 "cells": [
  {
   "cell_type": "markdown",
   "id": "8e760d0f",
   "metadata": {},
   "source": [
    "## tipos de datos\n",
    "### objetivos \n",
    "- hablar sobre los 4 tipos de datos basicos que tiene python\n",
    "### desarrollo:\n",
    "se tiene 4 tipos de datos basicos. vamos en codigo y utilicemos las funciones `print` y `type` para imprimir los tipos de manera explicita\n"
   ]
  },
  {
   "cell_type": "code",
   "execution_count": null,
   "id": "3e361b3a",
   "metadata": {},
   "outputs": [],
   "source": [
    "# este es un numero \n",
    "\n",
    "var_int = 45.98 \n",
    "\n",
    "print(var_int)\n",
    "print(type(var_int))\n",
    "print('\\n')\n",
    "# este es un numero decimal \n",
    "var_float = 369.432\n",
    "print(var_float)\n",
    "print(type(var_float))\n",
    "print('\\n')\n",
    "# este es un string\n",
    "var_string = \"yo soy un string\"\n",
    "print(var_string)\n",
    "print(type(var_string))\n",
    "print('\\n')\n",
    "## este es un booleano\n",
    "\n",
    "var_bool = True\n",
    "print(var_bool)\n",
    "print(type(var_bool))\n",
    "print('\\n')"
   ]
  }
 ],
 "metadata": {
  "language_info": {
   "name": "python"
  }
 },
 "nbformat": 4,
 "nbformat_minor": 5
}
