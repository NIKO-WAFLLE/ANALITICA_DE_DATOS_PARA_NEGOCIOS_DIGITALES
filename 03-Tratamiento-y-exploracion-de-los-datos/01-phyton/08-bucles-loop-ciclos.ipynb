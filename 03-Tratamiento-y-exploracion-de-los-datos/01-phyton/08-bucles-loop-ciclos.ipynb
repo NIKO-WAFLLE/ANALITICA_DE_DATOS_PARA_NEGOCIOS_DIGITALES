{
 "cells": [
  {
   "cell_type": "markdown",
   "id": "042d8e35",
   "metadata": {},
   "source": [
    "# bucles / loops / ciclos \n",
    "\n",
    "## bubles con wile\n",
    "\n",
    "### bucle infinito"
   ]
  },
  {
   "cell_type": "code",
   "execution_count": 6,
   "id": "e1fa3dd4",
   "metadata": {},
   "outputs": [
    {
     "ename": "KeyboardInterrupt",
     "evalue": "",
     "output_type": "error",
     "traceback": [
      "\u001b[0;31m---------------------------------------------------------------------------\u001b[0m",
      "\u001b[0;31mKeyboardInterrupt\u001b[0m                         Traceback (most recent call last)",
      "Cell \u001b[0;32mIn[6], line 1\u001b[0m\n\u001b[0;32m----> 1\u001b[0m \u001b[38;5;28;01mwhile\u001b[39;00m \u001b[38;5;28;01mTrue\u001b[39;00m:\n\u001b[1;32m      2\u001b[0m     \u001b[38;5;28;01mpass\u001b[39;00m\n\u001b[1;32m      3\u001b[0m \u001b[38;5;28mprint\u001b[39m(\u001b[38;5;124m'\u001b[39m\u001b[38;5;124mestoy en un ciclo y no puedo salir\u001b[39m\u001b[38;5;124m'\u001b[39m)\n",
      "\u001b[0;31mKeyboardInterrupt\u001b[0m: "
     ]
    }
   ],
   "source": [
    "while True:\n",
    "    print('estoy en un ciclo y no puedo salir')"
   ]
  },
  {
   "cell_type": "code",
   "execution_count": 9,
   "id": "51ae1c30",
   "metadata": {},
   "outputs": [
    {
     "name": "stdout",
     "output_type": "stream",
     "text": [
      "EL NUMERO MAS GRANDE ES : 7777777\n"
     ]
    }
   ],
   "source": [
    "num_grande = -99999999999\n",
    "#ingresa el primer valor\n",
    "number = int(input('introduce un numero o escribe -1 para terminar'))\n",
    "\n",
    "while number!= -1:\n",
    "\n",
    "    #¿es el numero mas grande que el valor numero grande?\n",
    "    if number > num_grande:\n",
    "        num_grande = number\n",
    "\n",
    "    number = int(input('introduce un numero o escribe -1 para terminar'))\n",
    "print(F'EL NUMERO MAS GRANDE ES : { num_grande}')"
   ]
  },
  {
   "cell_type": "code",
   "execution_count": 14,
   "id": "67e187d0",
   "metadata": {},
   "outputs": [
    {
     "name": "stdout",
     "output_type": "stream",
     "text": [
      "soy el numero 1\n",
      "soy el numero 2\n",
      "soy el numero 3\n",
      "soy el numero 4\n",
      "fin del programa\n"
     ]
    }
   ],
   "source": [
    "# imprimir todos los numeros del 1 al N\n",
    "\n",
    "numero = int(input('introduce un numero'))\n",
    "\n",
    "i = 1\n",
    "\n",
    "while i <= numero:\n",
    "    print(f'soy el numero {i}')\n",
    "    i = i + 1\n",
    "\n",
    "print('fin del programa')\n",
    "\n"
   ]
  },
  {
   "cell_type": "markdown",
   "id": "8f5377f7",
   "metadata": {},
   "source": [
    "***realisar un programa que calcule el promedio de califiaciones n**"
   ]
  },
  {
   "cell_type": "code",
   "execution_count": null,
   "id": "4209e101",
   "metadata": {},
   "outputs": [
    {
     "name": "stdout",
     "output_type": "stream",
     "text": [
      "fin del programa 8.0\n"
     ]
    }
   ],
   "source": [
    "num = int(input('troduce cuantas calificaciones vas a evaluar'))\n",
    "\n",
    "i = 1\n",
    "calificaciones = 0.0\n",
    "while i <= num:\n",
    "\n",
    "  \n",
    "    nota = float(input(f'calificacion {i}') )\n",
    "    calificaciones += nota\n",
    "    i += 1\n",
    "\n",
    "print('fin del programa', calificaciones /num)"
   ]
  },
  {
   "cell_type": "markdown",
   "id": "fb984694",
   "metadata": {},
   "source": [
    "programa que pida calificaciones y se detenga cuando pongan un -1 y que diga cuantas calificaciones fueron aprovatorias mina aprovatoria es 7 "
   ]
  },
  {
   "cell_type": "code",
   "execution_count": null,
   "id": "35bd8671",
   "metadata": {},
   "outputs": [
    {
     "name": "stdout",
     "output_type": "stream",
     "text": [
      "ingresa la calificacion  1\n",
      "fin del siclo  1\n",
      "ingresa la calificacion  2\n",
      "fin del siclo  2\n",
      "ingresa la calificacion  3\n",
      "fin del siclo  3\n",
      "terminar el siclo \n",
      "fin del siclo  4\n",
      "aprobadas  0\n",
      "reprobadas  1\n",
      "no realsitas 2\n"
     ]
    }
   ],
   "source": [
    "no_realistas = 0\n",
    "paso = 0\n",
    "Reprobadas = 0\n",
    "i = 0\n",
    "num = -5\n",
    "\n",
    "while i != num:\n",
    "    verificacion =input('vamos a ingresar calificaciones y/n')\n",
    "    i += 1\n",
    "    if verificacion == 'y' or verificacion == 'Y' :\n",
    "         \n",
    "        print('ingresa la calificacion ', i)\n",
    "        cali = int(input('intriduce calificacion'))\n",
    "        try:\n",
    "                if cali >= 7 and cali <= 10:  \n",
    "                    paso += 1\n",
    "                elif cali >= 7 and cali >= 0:\n",
    "                 Reprobadas += 1 \n",
    "                else:\n",
    "                    no_realistas += 1 \n",
    "        except ValueError:\n",
    "                print('hay un error ')\n",
    "       \n",
    "    elif verificacion == 'n' or verificacion == 'N':\n",
    "        print('terminar el siclo ')\n",
    "        num = i\n",
    "\n",
    "\n",
    "print('fin del siclo ', i -1 ) \n",
    "\n",
    "print('aprobadas ', paso)\n",
    "print('reprobadas ', Reprobadas)\n",
    "print('no realsitas', no_realistas)"
   ]
  },
  {
   "cell_type": "markdown",
   "id": "0953c5d8",
   "metadata": {},
   "source": [
    "## bucle con for\n",
    "\n",
    "otro tipo de bucle `phython` proviene de la observacion de que aveces es mas importante contar los 'giros o vueltas' del bucle que verificar las condiciones.\n",
    "\n",
    "```python\n",
    "for i  in range (100):\n",
    "    # do someting\n",
    "    pass\n",
    "```"
   ]
  },
  {
   "cell_type": "code",
   "execution_count": 13,
   "id": "00f184b9",
   "metadata": {},
   "outputs": [
    {
     "name": "stdout",
     "output_type": "stream",
     "text": [
      "\n",
      "*\n",
      "**\n",
      "***\n",
      "****\n",
      "*****\n",
      "******\n",
      "*******\n",
      "********\n",
      "*********\n"
     ]
    }
   ],
   "source": [
    "for i  in range (10):\n",
    "    print('*'*i)"
   ]
  },
  {
   "cell_type": "code",
   "execution_count": 14,
   "id": "40b4a362",
   "metadata": {},
   "outputs": [
    {
     "name": "stdout",
     "output_type": "stream",
     "text": [
      "el valor i  es 0\n",
      "el valor i  es 1\n",
      "el valor i  es 2\n",
      "el valor i  es 3\n",
      "el valor i  es 4\n",
      "el valor i  es 5\n",
      "el valor i  es 6\n",
      "el valor i  es 7\n",
      "el valor i  es 8\n",
      "el valor i  es 9\n"
     ]
    }
   ],
   "source": [
    "for i  in range (10):\n",
    "    print(f'el valor i  es {i}')"
   ]
  },
  {
   "cell_type": "code",
   "execution_count": 15,
   "id": "8a6fd301",
   "metadata": {},
   "outputs": [
    {
     "name": "stdout",
     "output_type": "stream",
     "text": [
      "el valor i  es 1\n",
      "el valor i  es 2\n",
      "el valor i  es 3\n",
      "el valor i  es 4\n",
      "el valor i  es 5\n",
      "el valor i  es 6\n",
      "el valor i  es 7\n",
      "el valor i  es 8\n",
      "el valor i  es 9\n",
      "el valor i  es 10\n"
     ]
    }
   ],
   "source": [
    "for i  in range (10):\n",
    "    print(f'el valor i  es {i + 1}')"
   ]
  },
  {
   "cell_type": "code",
   "execution_count": 21,
   "id": "a5ba9cf6",
   "metadata": {},
   "outputs": [
    {
     "name": "stdout",
     "output_type": "stream",
     "text": [
      "2\n",
      "3\n",
      "4\n",
      "5\n",
      "6\n",
      "7\n",
      "10\n",
      "[2, 4, 6, 9]\n"
     ]
    }
   ],
   "source": [
    "lista = [2,3,4,5,6,7,10,[2,4,6,9]]\n",
    "\n",
    "for li in lista:\n",
    "    print(li)"
   ]
  },
  {
   "cell_type": "markdown",
   "id": "8869c4e6",
   "metadata": {},
   "source": [
    "el bucle se a ejecutado n veces , `10 veces` (es el argumento de la funcion de range()) el valor de la ultima variable de control  es de  9 (no 10 , ya que conmienza en 0, no desde 1)"
   ]
  },
  {
   "cell_type": "code",
   "execution_count": 22,
   "id": "4eaab7ab",
   "metadata": {},
   "outputs": [
    {
     "name": "stdout",
     "output_type": "stream",
     "text": [
      "el valor de i es 2\n",
      "el valor de i es 3\n",
      "el valor de i es 4\n",
      "el valor de i es 5\n",
      "el valor de i es 6\n",
      "el valor de i es 7\n"
     ]
    }
   ],
   "source": [
    "for i in range (2,8):\n",
    "    print(f'el valor de i es {i}')"
   ]
  },
  {
   "cell_type": "code",
   "execution_count": 23,
   "id": "3aeddac8",
   "metadata": {},
   "outputs": [
    {
     "name": "stdout",
     "output_type": "stream",
     "text": [
      "el valor de i es 2\n",
      "el valor de i es 3\n",
      "el valor de i es 4\n",
      "el valor de i es 5\n",
      "el valor de i es 6\n",
      "el valor de i es 7\n"
     ]
    }
   ],
   "source": [
    "# lo mismo pero en wile \n",
    "\n",
    "i = 2\n",
    "while i < 8:\n",
    "    print(f'el valor de i es {i}')\n",
    "    i += 1"
   ]
  },
  {
   "cell_type": "markdown",
   "id": "55692915",
   "metadata": {},
   "source": [
    "la funcion range tambien puede aceptar 3 argumentos \n"
   ]
  },
  {
   "cell_type": "code",
   "execution_count": 24,
   "id": "2768ff16",
   "metadata": {},
   "outputs": [
    {
     "name": "stdout",
     "output_type": "stream",
     "text": [
      "el valor de i es 2\n",
      "el valor de i es 5\n"
     ]
    }
   ],
   "source": [
    "# inia del 2 al 8 en 3 en 3\n",
    "for i in range(2,8, 3):\n",
    "    print(f'el valor de i es {i}')"
   ]
  },
  {
   "cell_type": "code",
   "execution_count": 25,
   "id": "ef4ad962",
   "metadata": {},
   "outputs": [
    {
     "name": "stdout",
     "output_type": "stream",
     "text": [
      "el valor de i es 2\n",
      "el valor de i es 5\n"
     ]
    }
   ],
   "source": [
    "i = 2\n",
    "while i < 8:\n",
    "    print(f'el valor de i es {i}')\n",
    "    i += 3"
   ]
  },
  {
   "cell_type": "markdown",
   "id": "eac50762",
   "metadata": {},
   "source": [
    "las sentancias break y continue"
   ]
  },
  {
   "cell_type": "markdown",
   "id": "cd011455",
   "metadata": {},
   "source": [
    "break - sale del cucle inmediatamente , e incondicionalmente termina la operacion del bucle, el programa empiesa a ejecutar la instruccion mas cercana despues del cuerpo del bucle\n",
    "\n",
    "continue- se comporta como si el programa hubiera llegado rependinamente al final del cuerpo: el siguientte turno se inica y la exprecion de condicion se aprueba de inmediato"
   ]
  },
  {
   "cell_type": "code",
   "execution_count": 27,
   "id": "d3dab0e4",
   "metadata": {},
   "outputs": [
    {
     "name": "stdout",
     "output_type": "stream",
     "text": [
      "la instruccion brake\n",
      "0\n",
      "dentro del bucle\n",
      "0\n",
      "dentro del bucle\n",
      "0\n",
      "fuera del bucle\n"
     ]
    }
   ],
   "source": [
    "\n",
    "# brake - ejemplo \n",
    "\n",
    "print(\"la instruccion brake\")\n",
    "for i in range(1,6):\n",
    "    print('0')\n",
    "    if i == 3:\n",
    "        break\n",
    "    print('dentro del bucle')\n",
    "print('fuera del bucle')\n",
    "\n"
   ]
  },
  {
   "cell_type": "code",
   "execution_count": 28,
   "id": "5dc3571d",
   "metadata": {},
   "outputs": [
    {
     "name": "stdout",
     "output_type": "stream",
     "text": [
      "\n",
      " la instruccion continue: \n",
      "dentro del bucle 1\n",
      "dentro del bucle 2\n",
      "dentro del bucle 4\n",
      "dentro del bucle 5\n",
      "fuera del bucle\n"
     ]
    }
   ],
   "source": [
    "# continue \n",
    "\n",
    "print('\\n la instruccion continue: ')\n",
    "for i in range(1,6):\n",
    "    if i == 3:\n",
    "        continue\n",
    "    print(f'dentro del bucle {i}')\n",
    "print('fuera del bucle')"
   ]
  },
  {
   "cell_type": "code",
   "execution_count": null,
   "id": "afeaf58a",
   "metadata": {},
   "outputs": [],
   "source": []
  }
 ],
 "metadata": {
  "kernelspec": {
   "display_name": "Python 3",
   "language": "python",
   "name": "python3"
  },
  "language_info": {
   "codemirror_mode": {
    "name": "ipython",
    "version": 3
   },
   "file_extension": ".py",
   "mimetype": "text/x-python",
   "name": "python",
   "nbconvert_exporter": "python",
   "pygments_lexer": "ipython3",
   "version": "3.10.12"
  }
 },
 "nbformat": 4,
 "nbformat_minor": 5
}
