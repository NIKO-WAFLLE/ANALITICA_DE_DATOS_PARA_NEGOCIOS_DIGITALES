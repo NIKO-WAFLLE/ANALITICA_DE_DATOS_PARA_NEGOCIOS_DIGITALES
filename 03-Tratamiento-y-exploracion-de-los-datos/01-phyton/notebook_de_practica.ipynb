{
 "cells": [
  {
   "cell_type": "markdown",
   "id": "06322080",
   "metadata": {},
   "source": [
    "# Esto es un NoteBook de practica \n",
    "___\n",
    "\n",
    "### 1. objetivo  \n",
    " - repasar como funciona un jupiter Notebook\n",
    "### 2.\n",
    "  - jupiter Notebook instalado"
   ]
  },
  {
   "cell_type": "markdown",
   "id": "ca51c7db",
   "metadata": {},
   "source": [
    "en JN tenemos `modo comando` y `modo edicion`.\n",
    "    - El `modo edicion` sirve para editar celdas\n",
    "    - El `modo comando` sirve para usar comandos en el JN\n",
    "\n",
    "> Esto es una **celda Markdown** "
   ]
  },
  {
   "cell_type": "code",
   "execution_count": null,
   "id": "87cf7b0b",
   "metadata": {},
   "outputs": [],
   "source": [
    "# esto es una celda de codigo\n",
    "# y yo soy un comentatio\n",
    "\n"
   ]
  },
  {
   "cell_type": "markdown",
   "id": "91f2f6f8",
   "metadata": {},
   "source": [
    "Escribamos algo de codigo para recordar "
   ]
  },
  {
   "cell_type": "code",
   "execution_count": null,
   "id": "f931815a",
   "metadata": {},
   "outputs": [],
   "source": [
    "var_1 = 4\n",
    "var_2 = 5"
   ]
  },
  {
   "cell_type": "code",
   "execution_count": null,
   "id": "e5422ea2",
   "metadata": {},
   "outputs": [
    {
     "name": "stdout",
     "output_type": "stream",
     "text": [
      "4 5\n"
     ]
    }
   ],
   "source": [
    "print(var_1, var_2)"
   ]
  },
  {
   "cell_type": "code",
   "execution_count": null,
   "id": "8885d3de",
   "metadata": {},
   "outputs": [
    {
     "name": "stdout",
     "output_type": "stream",
     "text": [
      "4,5\n"
     ]
    }
   ],
   "source": [
    "print(str(var_1)+ ',' + str(var_2))"
   ]
  },
  {
   "cell_type": "code",
   "execution_count": null,
   "id": "d93faad2",
   "metadata": {},
   "outputs": [
    {
     "name": "stdout",
     "output_type": "stream",
     "text": [
      "9\n"
     ]
    }
   ],
   "source": [
    "print(var_2 + var_1)"
   ]
  },
  {
   "cell_type": "code",
   "execution_count": 14,
   "id": "8ad5a405",
   "metadata": {},
   "outputs": [
    {
     "name": "stdout",
     "output_type": "stream",
     "text": [
      "15\n"
     ]
    }
   ],
   "source": [
    "var_1 = 10\n",
    "\n",
    "print(var_1 + var_2)"
   ]
  },
  {
   "cell_type": "markdown",
   "id": "ea58f38c",
   "metadata": {},
   "source": [
    "## operadores logicos\n",
    "\n",
    "### or\n",
    "\n",
    "| or         | resultado |\n",
    "|--------------|-----------|\n",
    "| f  f        | f         |\n",
    "| t  f        | t         |\n",
    "| f  t        | t         |\n",
    "| t  t        | t         |\n",
    "\n",
    "### and\n",
    "\n",
    "| and        | resultado |\n",
    "|---------------|-----------|\n",
    "| f , f         | f         |\n",
    "| t , f         | f         |\n",
    "| f , t         | f         |\n",
    "| t , t         | t         |\n",
    "\n",
    "### not\n",
    "\n",
    "|not    |resultado |\n",
    "|---------------|-----------|\n",
    "| f             | t         |\n",
    "| t             | f         |\n",
    "### gerarquia\n",
    "\n",
    "parentecis ()\n",
    "operadores aritmeticos */-+\n",
    "operadores racionales  < > >=\n",
    "operadores logicos not, and, or\n",
    "\n"
   ]
  },
  {
   "cell_type": "code",
   "execution_count": 1,
   "id": "c08e1d34",
   "metadata": {},
   "outputs": [
    {
     "data": {
      "text/plain": [
       "True"
      ]
     },
     "execution_count": 1,
     "metadata": {},
     "output_type": "execute_result"
    }
   ],
   "source": [
    "resultado = not(4>4 and 5==5)\n",
    "resultado"
   ]
  },
  {
   "cell_type": "code",
   "execution_count": 5,
   "id": "4ac5c185",
   "metadata": {},
   "outputs": [
    {
     "data": {
      "text/plain": [
       "False"
      ]
     },
     "execution_count": 5,
     "metadata": {},
     "output_type": "execute_result"
    }
   ],
   "source": [
    "resultado = not 4<5 or 5!=5\n",
    "resultado"
   ]
  },
  {
   "cell_type": "markdown",
   "id": "3605ec4a",
   "metadata": {},
   "source": [
    "1. verificar si un numero esta en el rango de 10 y 20 \n",
    "2. verificar si un usuario tiene acceso al charlys si tiene minimo 18 años o tiene permiso especial\n",
    "3. verificar si un numero no es igual a cero\n",
    "4. verificar si un valor esta fuera de rango de 0 y 30 "
   ]
  },
  {
   "cell_type": "code",
   "execution_count": 7,
   "id": "8540bf0c",
   "metadata": {},
   "outputs": [],
   "source": [
    "# funcion que solicita un valor \n",
    "def solisitar ():\n",
    "    return int(input(\"introduce el valor\"))"
   ]
  },
  {
   "cell_type": "code",
   "execution_count": 9,
   "id": "8ca534a5",
   "metadata": {},
   "outputs": [
    {
     "name": "stdout",
     "output_type": "stream",
     "text": [
      "introduce el valor \n",
      "el numero 19 no esta entre 10 y 20 \n"
     ]
    }
   ],
   "source": [
    "# 1\n",
    "print(\"introduce el valor \")\n",
    "var_1 = solisitar()\n",
    "\n",
    "\n",
    "if var_1 < 10 and var_1 > 20 :\n",
    "    print(f\"esta {var_1} entre el 10 y 20\")\n",
    "else:\n",
    "    print(f\"el numero {var_1} no esta entre 10 y 20 \")"
   ]
  },
  {
   "cell_type": "code",
   "execution_count": null,
   "id": "c9b3c1ad",
   "metadata": {},
   "outputs": [],
   "source": [
    "# 2\n",
    "print(\"introduce el valor \")\n",
    "var_1 = solisitar()\n",
    "\n",
    "\n",
    "if var_1 < 10 and var_1 > 20 :\n",
    "    print(f\"esta {var_1} entre el 10 y 20\")\n",
    "else:\n",
    "    print(f\"el numero {var_1} no esta entre 10 y 20 \")"
   ]
  },
  {
   "cell_type": "code",
   "execution_count": null,
   "id": "80e189a9",
   "metadata": {},
   "outputs": [
    {
     "name": "stdout",
     "output_type": "stream",
     "text": [
      "introduce el valor \n",
      "\n",
      "y\n",
      " es cero\n"
     ]
    }
   ],
   "source": [
    "# 3\n",
    "print(\"introduce el valor \")\n",
    "print()\n",
    "var_1 = solisitar()\n",
    "\n",
    "var_2=input(\"tienes un permiso especial? y/n\")\n",
    "\n",
    "if var_1 > 18 or var_2 == \"y\" :\n",
    "    print(f\" tienes permiso\")\n",
    "else:\n",
    "    print(f\"tu edad es {var_1} no tienes permitido entrar  \")"
   ]
  },
  {
   "cell_type": "code",
   "execution_count": 21,
   "id": "84414e2f",
   "metadata": {},
   "outputs": [
    {
     "name": "stdout",
     "output_type": "stream",
     "text": [
      "introduce el valor \n",
      "el numero 5 esta entre  0 y 30\n"
     ]
    }
   ],
   "source": [
    "# 4\n",
    "print(\"introduce el valor \")\n",
    "var_1 = solisitar()\n",
    "\n",
    "\n",
    "if var_1 < 0 or var_1 > 30 :\n",
    "    print(f\"esta entre 0 y 30\")\n",
    "else:\n",
    "    print(f\"el numero {var_1} esta entre  0 y 30\")"
   ]
  },
  {
   "cell_type": "markdown",
   "id": "c8213c24",
   "metadata": {},
   "source": [
    "hay veces que queremos tener una accion `default`, que queremos que suceda en caso de que la comparacion sea `false`. Para esto podemos usar una sentancia `else`. piensalo como preguntarse a uno mismo: \"si meto a la mano a la bolsa y resulta que encuentro un billete de 50"
   ]
  },
  {
   "cell_type": "code",
   "execution_count": null,
   "id": "1073aca2",
   "metadata": {},
   "outputs": [],
   "source": []
  },
  {
   "cell_type": "code",
   "execution_count": null,
   "id": "20866e2d",
   "metadata": {},
   "outputs": [],
   "source": [
    "# encontrar el numoer mas grande de dos\n",
    "numero_1=int(input('introduce el numero 1'))\n",
    "numero_2=int(input('introduce el numero 2'))\n",
    "\n",
    "#elejir el numero mas grande \n",
    "if numero_1 > numero_2:\n",
    "    print(f'numero {numero_1} es mayor {numero_2}')\n",
    "else:\n",
    "    print(f'el numero{numero_2} es mayor al numero 2')\n"
   ]
  },
  {
   "cell_type": "markdown",
   "id": "ed448724",
   "metadata": {},
   "source": [
    "si queremos que aya mas de dos opcciones podemos agregar opciones utilisando la sentencia `elif`"
   ]
  },
  {
   "cell_type": "code",
   "execution_count": 30,
   "id": "a627e0ac",
   "metadata": {},
   "outputs": [
    {
     "name": "stdout",
     "output_type": "stream",
     "text": [
      "el 14 es mayor a 12\n"
     ]
    }
   ],
   "source": [
    "var_1 = 12\n",
    "var_2 = 14\n",
    "\n",
    "if var_1 > var_2:\n",
    "    print(f'el {var_1} es mayor a {var_2}')\n",
    "elif var_2 > var_1:\n",
    "    print(f'el {var_2} es mayor a {var_1}')\n",
    "else:\n",
    "    print('son iguales')"
   ]
  },
  {
   "cell_type": "markdown",
   "id": "b9824df5",
   "metadata": {},
   "source": [
    "### 1. Comparaciones numéricas\n",
    "\n",
    "Vamos a imaginar que estamos analizando un conjunto de datos que contiene las ventas anuales en pesos de unos vendedores que trabajan en nuestra empresa. Obtenemos el total de ventas anuales en pesos y lo tenemos asignado a la variable ventas_anuales_totales. Escribe una estructura de control que nos diga de cuánto va a ser el bono de nuestro empleado.\n",
    "\n",
    "Si las ventas son mayores a `$`1,000,000 el bono será de 20% del sueldo; si son entre `$`700,000 y `$`1,000,000 el bono será de 15% del sueldo; entre `$`400,000 y `$`700,000 el bono será de 10% del sueldo; entre `$`100,00 y 400,000 el bono será de 5% del sueldo; y debajo de `$`100,000 el bono será del 1% del sueldo.\n",
    "\n",
    "Escribe tu estructura de control y, por ahora (más adelante tendremos más herramientas para hacer esto más interesante) imprime una string que diga de cuánto va a ser el bono.\n",
    "\n",
    "> Reto opcional: Agrega una variable sueldo que sea el sueldo de tu empleado y agrégale el porcentaje de bono a esa variable dependiendo de la condición que se cumpla. Después hasta el final imprime una string interpolada que diga algo como \"Felicidades, tu sueldo es x; tu bono es de x; y el total de sueldo con el bono incluido es de x\". ¡Para que esto funcione también debes de agregar una variable donde guardes la cantidad del bono!"
   ]
  },
  {
   "cell_type": "code",
   "execution_count": 1,
   "id": "c8432ac7",
   "metadata": {},
   "outputs": [
    {
     "name": "stdout",
     "output_type": "stream",
     "text": [
      "ingresa tus ventas anuales\n",
      "\n",
      "--ingresa tu salario\n",
      "Tu bono es del 1%, cual será 0.05 extras\n"
     ]
    }
   ],
   "source": [
    "print(\"ingresa tus ventas anuales\")\n",
    "print()\n",
    "var_1 = int(input('ingresa tus ventas anuales'))\n",
    "\n",
    "print(\"--ingresa tu salario\")\n",
    "var_2 = int(input('ingresa tu salario'))\n",
    "\n",
    "if var_1 > 1000000:\n",
    "    print(f'Tu bono es del 20%, cual será {var_2 * 0.20} extras')\n",
    "elif var_1 <= 1000000 and var_1 > 700000:\n",
    "    print(f'Tu bono es del 15%, cual será {var_2 * 0.15} extras')\n",
    "elif var_1 <= 700000 and var_1 > 400000:\n",
    "    print(f'Tu bono es del 10%, cual será {var_2 * 0.10} extras')\n",
    "elif var_1 <= 400000 and var_1 > 100000:\n",
    "    print(f'Tu bono es del 5%, cual será {var_2 * 0.05} extras')\n",
    "else:\n",
    "    print(f'Tu bono es del 1%, cual será {var_2 * 0.01} extras')\n",
    "    "
   ]
  }
 ],
 "metadata": {
  "kernelspec": {
   "display_name": "Python 3",
   "language": "python",
   "name": "python3"
  },
  "language_info": {
   "codemirror_mode": {
    "name": "ipython",
    "version": 3
   },
   "file_extension": ".py",
   "mimetype": "text/x-python",
   "name": "python",
   "nbconvert_exporter": "python",
   "pygments_lexer": "ipython3",
   "version": "3.10.12"
  }
 },
 "nbformat": 4,
 "nbformat_minor": 5
}
