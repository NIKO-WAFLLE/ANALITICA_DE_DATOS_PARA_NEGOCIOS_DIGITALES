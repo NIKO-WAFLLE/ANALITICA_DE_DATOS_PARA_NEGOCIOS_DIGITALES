{
 "cells": [
  {
   "cell_type": "markdown",
   "id": "a904bca3",
   "metadata": {},
   "source": [
    "## operadores de comparacion\n",
    "\n",
    "### objetivos conoser el funcionamiento de los operadores de comparacion usando ints, floats and strings \n",
    "________\n",
    "### Desarrollo\n",
    "|operador|accion|\n",
    "|---|---|\n",
    "|>|mayor que|\n",
    "|<|menor que|\n",
    "|>=|mayor o igual|\n",
    "|<=|menor o igual|\n",
    "|==| igual que|\n",
    "|!=|verdadero o falso|"
   ]
  },
  {
   "cell_type": "code",
   "execution_count": 1,
   "id": "e2f5978b",
   "metadata": {},
   "outputs": [],
   "source": [
    "var_1 = 34\n",
    "var_2 = 12\n",
    "var_3 = 23.24\n",
    "var_4 = 23.56\n",
    "var_5 = \"ok\"\n",
    "var_6 = \"error\"\n",
    "var_7 = True\n",
    "var_8 = False"
   ]
  },
  {
   "cell_type": "markdown",
   "id": "90d1d503",
   "metadata": {},
   "source": [
    "Ahora vamos a realizar algunas comparaciones para ver como ver como funcionan los operadores relacionales"
   ]
  },
  {
   "cell_type": "code",
   "execution_count": 2,
   "id": "45f4e4e0",
   "metadata": {},
   "outputs": [
    {
     "data": {
      "text/plain": [
       "True"
      ]
     },
     "execution_count": 2,
     "metadata": {},
     "output_type": "execute_result"
    }
   ],
   "source": [
    "var_1 > var_2"
   ]
  },
  {
   "cell_type": "code",
   "execution_count": 3,
   "id": "84b13e71",
   "metadata": {},
   "outputs": [
    {
     "data": {
      "text/plain": [
       "False"
      ]
     },
     "execution_count": 3,
     "metadata": {},
     "output_type": "execute_result"
    }
   ],
   "source": [
    "var_1 < var_2"
   ]
  },
  {
   "cell_type": "code",
   "execution_count": 4,
   "id": "a7f3fa47",
   "metadata": {},
   "outputs": [
    {
     "data": {
      "text/plain": [
       "True"
      ]
     },
     "execution_count": 4,
     "metadata": {},
     "output_type": "execute_result"
    }
   ],
   "source": [
    "var_3 < var_4"
   ]
  },
  {
   "cell_type": "code",
   "execution_count": 7,
   "id": "22f91ebf",
   "metadata": {},
   "outputs": [
    {
     "data": {
      "text/plain": [
       "True"
      ]
     },
     "execution_count": 7,
     "metadata": {},
     "output_type": "execute_result"
    }
   ],
   "source": [
    "var_1 >= var_4"
   ]
  },
  {
   "cell_type": "code",
   "execution_count": 8,
   "id": "f0aae71e",
   "metadata": {},
   "outputs": [
    {
     "data": {
      "text/plain": [
       "False"
      ]
     },
     "execution_count": 8,
     "metadata": {},
     "output_type": "execute_result"
    }
   ],
   "source": [
    "var_5 == var_6"
   ]
  },
  {
   "cell_type": "code",
   "execution_count": 5,
   "id": "b2c1af1d",
   "metadata": {},
   "outputs": [
    {
     "data": {
      "text/plain": [
       "True"
      ]
     },
     "execution_count": 5,
     "metadata": {},
     "output_type": "execute_result"
    }
   ],
   "source": [
    "var_5 != var_6"
   ]
  },
  {
   "cell_type": "code",
   "execution_count": 9,
   "id": "a88530d3",
   "metadata": {},
   "outputs": [
    {
     "data": {
      "text/plain": [
       "True"
      ]
     },
     "execution_count": 9,
     "metadata": {},
     "output_type": "execute_result"
    }
   ],
   "source": [
    "True == True"
   ]
  },
  {
   "cell_type": "code",
   "execution_count": 10,
   "id": "d93e741e",
   "metadata": {},
   "outputs": [
    {
     "data": {
      "text/plain": [
       "False"
      ]
     },
     "execution_count": 10,
     "metadata": {},
     "output_type": "execute_result"
    }
   ],
   "source": [
    "True == False"
   ]
  },
  {
   "cell_type": "code",
   "execution_count": 11,
   "id": "817ec409",
   "metadata": {},
   "outputs": [
    {
     "data": {
      "text/plain": [
       "True"
      ]
     },
     "execution_count": 11,
     "metadata": {},
     "output_type": "execute_result"
    }
   ],
   "source": [
    "True > False"
   ]
  },
  {
   "cell_type": "code",
   "execution_count": 12,
   "id": "020f33f8",
   "metadata": {},
   "outputs": [
    {
     "data": {
      "text/plain": [
       "False"
      ]
     },
     "execution_count": 12,
     "metadata": {},
     "output_type": "execute_result"
    }
   ],
   "source": [
    "True < False"
   ]
  }
 ],
 "metadata": {
  "kernelspec": {
   "display_name": "Python 3",
   "language": "python",
   "name": "python3"
  },
  "language_info": {
   "codemirror_mode": {
    "name": "ipython",
    "version": 3
   },
   "file_extension": ".py",
   "mimetype": "text/x-python",
   "name": "python",
   "nbconvert_exporter": "python",
   "pygments_lexer": "ipython3",
   "version": "3.10.12"
  }
 },
 "nbformat": 4,
 "nbformat_minor": 5
}
