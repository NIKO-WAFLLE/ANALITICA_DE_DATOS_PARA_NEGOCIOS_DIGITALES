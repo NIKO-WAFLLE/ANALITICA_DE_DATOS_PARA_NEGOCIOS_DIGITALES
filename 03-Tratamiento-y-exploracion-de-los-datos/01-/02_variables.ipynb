{
 "cells": [
  {
   "cell_type": "markdown",
   "id": "ae8e19ba",
   "metadata": {},
   "source": [
    "## ejemplo 2 : variables\n",
    "### 1.  objetivos \n",
    "\n",
    "    - entender cual es la sintaxis de la asignacion en python\n",
    "    - aprende la convencion de nombramiento de variables\n",
    "\n",
    "### 2. desarrollo\n",
    "\n",
    "los siguientes nombres son nombres posibles de variable en python\n",
    "\n",
    " - var_2\n",
    " - variable_3\n",
    " - variable_nueva_va\n",
    " - esta_es_una_variable_nueva"
   ]
  },
  {
   "cell_type": "markdown",
   "id": "75c5cac2",
   "metadata": {},
   "source": [
    "los siguientes son nombres invalidos para una variable en python\n",
    "\n",
    "- 1_2\n",
    "- 1_variable\n",
    "- variabledos\n",
    "- valor dos"
   ]
  },
  {
   "cell_type": "code",
   "execution_count": 1,
   "id": "6c44635a",
   "metadata": {},
   "outputs": [],
   "source": [
    "var_1 = 3 \n",
    "var_2 = 6\n",
    "variable_ = 10\n",
    "variable_nueva_4 = 20"
   ]
  },
  {
   "cell_type": "markdown",
   "id": "1e27aa65",
   "metadata": {},
   "source": [
    "podemos acceder a su contenido con tan solo escribir el nombre de la variable en suna celda y correrla "
   ]
  },
  {
   "cell_type": "code",
   "execution_count": 2,
   "id": "5d92b2f0",
   "metadata": {},
   "outputs": [
    {
     "data": {
      "text/plain": [
       "6"
      ]
     },
     "execution_count": 2,
     "metadata": {},
     "output_type": "execute_result"
    }
   ],
   "source": [
    "var_2"
   ]
  },
  {
   "cell_type": "markdown",
   "id": "aedf6a63",
   "metadata": {},
   "source": [
    "si intento llamar una variable que no existe . JN va a lanzar un error"
   ]
  },
  {
   "cell_type": "code",
   "execution_count": 3,
   "id": "5c7df4cb",
   "metadata": {},
   "outputs": [
    {
     "ename": "NameError",
     "evalue": "name 'var_5' is not defined",
     "output_type": "error",
     "traceback": [
      "\u001b[0;31m---------------------------------------------------------------------------\u001b[0m",
      "\u001b[0;31mNameError\u001b[0m                                 Traceback (most recent call last)",
      "Cell \u001b[0;32mIn[3], line 1\u001b[0m\n\u001b[0;32m----> 1\u001b[0m \u001b[43mvar_5\u001b[49m\n",
      "\u001b[0;31mNameError\u001b[0m: name 'var_5' is not defined"
     ]
    }
   ],
   "source": [
    "var_5"
   ]
  },
  {
   "cell_type": "markdown",
   "id": "464e8512",
   "metadata": {},
   "source": [
    "da igual, manera, si se escribe una asignacion, pero no se corre, esa variable no estara disponible para el notebook mas adelante"
   ]
  },
  {
   "cell_type": "code",
   "execution_count": 4,
   "id": "a8f30deb",
   "metadata": {},
   "outputs": [],
   "source": [
    "var_2 = 68"
   ]
  },
  {
   "cell_type": "code",
   "execution_count": 5,
   "id": "4194b6c0",
   "metadata": {},
   "outputs": [
    {
     "data": {
      "text/plain": [
       "68"
      ]
     },
     "execution_count": 5,
     "metadata": {},
     "output_type": "execute_result"
    }
   ],
   "source": [
    "var_2"
   ]
  },
  {
   "cell_type": "markdown",
   "id": "14e9763a",
   "metadata": {},
   "source": [
    "## reto 1:  variables\n",
    "    - practicar convencion de nombramiento y asignacion de variables\n",
    "### \n",
    "    realisa la siguientepractica"
   ]
  },
  {
   "cell_type": "code",
   "execution_count": 6,
   "id": "04d2ba42",
   "metadata": {},
   "outputs": [],
   "source": [
    "# asigna el numero 12345 a una variable llamada variable locochona \n",
    "\n",
    "variable_locochona = 12345\n",
    "\n",
    "# asigna el numero 14.567 a la variable decimal\n",
    "variable_meow = 14.567\n",
    "\n",
    "# asigna  un numero cualquiera a una variable que tenga 5 palabras en su nombre\n",
    "meow_meow_meow_meow_meow = 5\n",
    "\n",
    "# asigna cualquier numero a una variable que incluya palabras y numeros\n",
    "\n",
    "meow_3_nya = 15.5\n",
    " "
   ]
  }
 ],
 "metadata": {
  "kernelspec": {
   "display_name": "Python 3",
   "language": "python",
   "name": "python3"
  },
  "language_info": {
   "codemirror_mode": {
    "name": "ipython",
    "version": 3
   },
   "file_extension": ".py",
   "mimetype": "text/x-python",
   "name": "python",
   "nbconvert_exporter": "python",
   "pygments_lexer": "ipython3",
   "version": "3.10.12"
  }
 },
 "nbformat": 4,
 "nbformat_minor": 5
}
