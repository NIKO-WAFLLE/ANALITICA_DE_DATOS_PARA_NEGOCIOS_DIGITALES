{
 "cells": [
  {
   "cell_type": "markdown",
   "id": "06322080",
   "metadata": {},
   "source": [
    "# Esto es un NoteBook de practica \n",
    "___\n",
    "\n",
    "### 1. objetivo  \n",
    " - repasar como funciona un jupiter Notebook\n",
    "### 2.\n",
    "  - jupiter Notebook instalado"
   ]
  },
  {
   "cell_type": "markdown",
   "id": "ca51c7db",
   "metadata": {},
   "source": [
    "en JN tenemos `modo comando` y `modo edicion`.\n",
    "    - El `modo edicion` sirve para editar celdas\n",
    "    - El `modo comando` sirve para usar comandos en el JN\n",
    "\n",
    "> Esto es una **celda Markdown** "
   ]
  },
  {
   "cell_type": "code",
   "execution_count": 6,
   "id": "87cf7b0b",
   "metadata": {},
   "outputs": [],
   "source": [
    "# esto es una celda de codigo\n",
    "# y yo soy un comentatio\n",
    "\n"
   ]
  },
  {
   "cell_type": "markdown",
   "id": "91f2f6f8",
   "metadata": {},
   "source": [
    "Escribamos algo de codigo para recordar "
   ]
  },
  {
   "cell_type": "code",
   "execution_count": 10,
   "id": "f931815a",
   "metadata": {},
   "outputs": [],
   "source": [
    "var_1 = 4\n",
    "var_2 = 5"
   ]
  },
  {
   "cell_type": "code",
   "execution_count": 11,
   "id": "e5422ea2",
   "metadata": {},
   "outputs": [
    {
     "name": "stdout",
     "output_type": "stream",
     "text": [
      "4 5\n"
     ]
    }
   ],
   "source": [
    "print(var_1, var_2)"
   ]
  },
  {
   "cell_type": "code",
   "execution_count": 12,
   "id": "8885d3de",
   "metadata": {},
   "outputs": [
    {
     "name": "stdout",
     "output_type": "stream",
     "text": [
      "4,5\n"
     ]
    }
   ],
   "source": [
    "print(str(var_1)+ ',' + str(var_2))"
   ]
  },
  {
   "cell_type": "code",
   "execution_count": 13,
   "id": "d93faad2",
   "metadata": {},
   "outputs": [
    {
     "name": "stdout",
     "output_type": "stream",
     "text": [
      "9\n"
     ]
    }
   ],
   "source": [
    "print(var_2 + var_1)"
   ]
  },
  {
   "cell_type": "code",
   "execution_count": 14,
   "id": "8ad5a405",
   "metadata": {},
   "outputs": [
    {
     "name": "stdout",
     "output_type": "stream",
     "text": [
      "15\n"
     ]
    }
   ],
   "source": [
    "var_1 = 10\n",
    "\n",
    "print(var_1 + var_2)"
   ]
  }
 ],
 "metadata": {
  "kernelspec": {
   "display_name": "Python 3",
   "language": "python",
   "name": "python3"
  },
  "language_info": {
   "codemirror_mode": {
    "name": "ipython",
    "version": 3
   },
   "file_extension": ".py",
   "mimetype": "text/x-python",
   "name": "python",
   "nbconvert_exporter": "python",
   "pygments_lexer": "ipython3",
   "version": "3.10.12"
  }
 },
 "nbformat": 4,
 "nbformat_minor": 5
}
